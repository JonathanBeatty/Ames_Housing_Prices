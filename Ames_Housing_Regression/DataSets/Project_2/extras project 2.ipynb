{
 "cells": [
  {
   "cell_type": "code",
   "execution_count": null,
   "metadata": {},
   "outputs": [],
   "source": [
    "from sklearn.ensemble import RandomForestRegressor\n",
    "\n",
    "regr = RandomForestRegressor()\n",
    "\n",
    "regr.fit(df_numeric_1, y)\n",
    "\n",
    "regr.score(df_numeric_1, y)\n",
    "\n",
    "regr.predict(test_df_numeric)"
   ]
  },
  {
   "cell_type": "code",
   "execution_count": null,
   "metadata": {},
   "outputs": [],
   "source": [
    "kaggle_n = kaggle_new[common_to_both]\n",
    "X_n = X[common_to_both]\n",
    "\n",
    "ss = StandardScaler()\n",
    "ss.fit(X_n)\n",
    "X_n_s = ss.transform(X_n)\n",
    "\n",
    "kaggle_n_s = ss.transform(kaggle_n)\n",
    "\n",
    "lr = LinearRegression()\n",
    "\n",
    "lr.fit(X_n_s, y)\n",
    "print(lr.score(X_n_s, y))\n",
    "predictions = lr.predict(kaggle_n_s)"
   ]
  },
  {
   "cell_type": "code",
   "execution_count": null,
   "metadata": {},
   "outputs": [],
   "source": [
    "top_corr = list(pd.concat([X_train, y_train],\n",
    "                          axis=1).corr()\n",
    "                ['SalePrice']\n",
    "                .sort_values(\n",
    "                    ascending=False).index)"
   ]
  }
 ],
 "metadata": {
  "kernelspec": {
   "display_name": "Python 3",
   "language": "python",
   "name": "python3"
  },
  "language_info": {
   "codemirror_mode": {
    "name": "ipython",
    "version": 3
   },
   "file_extension": ".py",
   "mimetype": "text/x-python",
   "name": "python",
   "nbconvert_exporter": "python",
   "pygments_lexer": "ipython3",
   "version": "3.6.5"
  }
 },
 "nbformat": 4,
 "nbformat_minor": 2
}
