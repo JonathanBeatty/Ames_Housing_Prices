{
 "cells": [
  {
   "cell_type": "code",
   "execution_count": 415,
   "metadata": {},
   "outputs": [],
   "source": [
    "import pandas as pd\n",
    "import numpy as np\n",
    "import seaborn as sns\n",
    "import matplotlib.pyplot as plt\n",
    "import scipy.stats as stats\n",
    "from sklearn.model_selection import train_test_split, KFold, cross_val_score\n",
    "from sklearn.metrics import r2_score\n",
    "from sklearn.preprocessing import StandardScaler, PolynomialFeatures\n",
    "from sklearn.linear_model import Ridge, Lasso, ElasticNet, LinearRegression, RidgeCV, LassoCV, ElasticNetCV\n",
    "from sklearn.model_selection import cross_val_score\n",
    "import statsmodels.api as sm\n",
    "from statsmodels.sandbox.regression.predstd import wls_prediction_std\n",
    "\n",
    "%matplotlib inline"
   ]
  },
  {
   "cell_type": "code",
   "execution_count": 416,
   "metadata": {},
   "outputs": [],
   "source": [
    "train_df = pd.read_csv('/Users/jonathanbeatty/Desktop/DataSets/Project_2/train.csv')\n",
    "\n",
    "test_df = pd.read_csv('/Users/jonathanbeatty/Desktop/DataSets/Project_2/test.csv')\n"
   ]
  },
  {
   "cell_type": "code",
   "execution_count": 417,
   "metadata": {},
   "outputs": [
    {
     "name": "stdout",
     "output_type": "stream",
     "text": [
      "<class 'pandas.core.frame.DataFrame'>\n",
      "RangeIndex: 2051 entries, 0 to 2050\n",
      "Data columns (total 81 columns):\n",
      "Id                 2051 non-null int64\n",
      "PID                2051 non-null int64\n",
      "MS SubClass        2051 non-null int64\n",
      "MS Zoning          2051 non-null object\n",
      "Lot Frontage       1721 non-null float64\n",
      "Lot Area           2051 non-null int64\n",
      "Street             2051 non-null object\n",
      "Alley              140 non-null object\n",
      "Lot Shape          2051 non-null object\n",
      "Land Contour       2051 non-null object\n",
      "Utilities          2051 non-null object\n",
      "Lot Config         2051 non-null object\n",
      "Land Slope         2051 non-null object\n",
      "Neighborhood       2051 non-null object\n",
      "Condition 1        2051 non-null object\n",
      "Condition 2        2051 non-null object\n",
      "Bldg Type          2051 non-null object\n",
      "House Style        2051 non-null object\n",
      "Overall Qual       2051 non-null int64\n",
      "Overall Cond       2051 non-null int64\n",
      "Year Built         2051 non-null int64\n",
      "Year Remod/Add     2051 non-null int64\n",
      "Roof Style         2051 non-null object\n",
      "Roof Matl          2051 non-null object\n",
      "Exterior 1st       2051 non-null object\n",
      "Exterior 2nd       2051 non-null object\n",
      "Mas Vnr Type       2029 non-null object\n",
      "Mas Vnr Area       2029 non-null float64\n",
      "Exter Qual         2051 non-null object\n",
      "Exter Cond         2051 non-null object\n",
      "Foundation         2051 non-null object\n",
      "Bsmt Qual          1996 non-null object\n",
      "Bsmt Cond          1996 non-null object\n",
      "Bsmt Exposure      1993 non-null object\n",
      "BsmtFin Type 1     1996 non-null object\n",
      "BsmtFin SF 1       2050 non-null float64\n",
      "BsmtFin Type 2     1995 non-null object\n",
      "BsmtFin SF 2       2050 non-null float64\n",
      "Bsmt Unf SF        2050 non-null float64\n",
      "Total Bsmt SF      2050 non-null float64\n",
      "Heating            2051 non-null object\n",
      "Heating QC         2051 non-null object\n",
      "Central Air        2051 non-null object\n",
      "Electrical         2051 non-null object\n",
      "1st Flr SF         2051 non-null int64\n",
      "2nd Flr SF         2051 non-null int64\n",
      "Low Qual Fin SF    2051 non-null int64\n",
      "Gr Liv Area        2051 non-null int64\n",
      "Bsmt Full Bath     2049 non-null float64\n",
      "Bsmt Half Bath     2049 non-null float64\n",
      "Full Bath          2051 non-null int64\n",
      "Half Bath          2051 non-null int64\n",
      "Bedroom AbvGr      2051 non-null int64\n",
      "Kitchen AbvGr      2051 non-null int64\n",
      "Kitchen Qual       2051 non-null object\n",
      "TotRms AbvGrd      2051 non-null int64\n",
      "Functional         2051 non-null object\n",
      "Fireplaces         2051 non-null int64\n",
      "Fireplace Qu       1051 non-null object\n",
      "Garage Type        1938 non-null object\n",
      "Garage Yr Blt      1937 non-null float64\n",
      "Garage Finish      1937 non-null object\n",
      "Garage Cars        2050 non-null float64\n",
      "Garage Area        2050 non-null float64\n",
      "Garage Qual        1937 non-null object\n",
      "Garage Cond        1937 non-null object\n",
      "Paved Drive        2051 non-null object\n",
      "Wood Deck SF       2051 non-null int64\n",
      "Open Porch SF      2051 non-null int64\n",
      "Enclosed Porch     2051 non-null int64\n",
      "3Ssn Porch         2051 non-null int64\n",
      "Screen Porch       2051 non-null int64\n",
      "Pool Area          2051 non-null int64\n",
      "Pool QC            9 non-null object\n",
      "Fence              400 non-null object\n",
      "Misc Feature       65 non-null object\n",
      "Misc Val           2051 non-null int64\n",
      "Mo Sold            2051 non-null int64\n",
      "Yr Sold            2051 non-null int64\n",
      "Sale Type          2051 non-null object\n",
      "SalePrice          2051 non-null int64\n",
      "dtypes: float64(11), int64(28), object(42)\n",
      "memory usage: 1.3+ MB\n"
     ]
    },
    {
     "data": {
      "text/plain": [
       "Id                   0\n",
       "PID                  0\n",
       "MS SubClass          0\n",
       "MS Zoning            0\n",
       "Lot Frontage       330\n",
       "Lot Area             0\n",
       "Street               0\n",
       "Alley             1911\n",
       "Lot Shape            0\n",
       "Land Contour         0\n",
       "Utilities            0\n",
       "Lot Config           0\n",
       "Land Slope           0\n",
       "Neighborhood         0\n",
       "Condition 1          0\n",
       "Condition 2          0\n",
       "Bldg Type            0\n",
       "House Style          0\n",
       "Overall Qual         0\n",
       "Overall Cond         0\n",
       "Year Built           0\n",
       "Year Remod/Add       0\n",
       "Roof Style           0\n",
       "Roof Matl            0\n",
       "Exterior 1st         0\n",
       "Exterior 2nd         0\n",
       "Mas Vnr Type        22\n",
       "Mas Vnr Area        22\n",
       "Exter Qual           0\n",
       "Exter Cond           0\n",
       "                  ... \n",
       "Half Bath            0\n",
       "Bedroom AbvGr        0\n",
       "Kitchen AbvGr        0\n",
       "Kitchen Qual         0\n",
       "TotRms AbvGrd        0\n",
       "Functional           0\n",
       "Fireplaces           0\n",
       "Fireplace Qu      1000\n",
       "Garage Type        113\n",
       "Garage Yr Blt      114\n",
       "Garage Finish      114\n",
       "Garage Cars          1\n",
       "Garage Area          1\n",
       "Garage Qual        114\n",
       "Garage Cond        114\n",
       "Paved Drive          0\n",
       "Wood Deck SF         0\n",
       "Open Porch SF        0\n",
       "Enclosed Porch       0\n",
       "3Ssn Porch           0\n",
       "Screen Porch         0\n",
       "Pool Area            0\n",
       "Pool QC           2042\n",
       "Fence             1651\n",
       "Misc Feature      1986\n",
       "Misc Val             0\n",
       "Mo Sold              0\n",
       "Yr Sold              0\n",
       "Sale Type            0\n",
       "SalePrice            0\n",
       "Length: 81, dtype: int64"
      ]
     },
     "execution_count": 417,
     "metadata": {},
     "output_type": "execute_result"
    }
   ],
   "source": [
    "train_df.info()\n",
    "\n",
    "train_df.isnull().sum()"
   ]
  },
  {
   "cell_type": "code",
   "execution_count": 279,
   "metadata": {},
   "outputs": [],
   "source": [
    "train_df.drop('Pool QC', axis = 1, inplace= True)\n",
    "train_df.drop('Misc Feature', axis = 1, inplace = True)\n",
    "train_df.drop('Fence', axis = 1, inplace = True)\n",
    "train_df.drop('Alley', axis = 1, inplace = True)\n",
    "train_df.drop('Lot Frontage', axis = 1, inplace = True)\n",
    "train_df.drop('Bsmt Qual', axis = 1, inplace = True)\n",
    "train_df.drop('Bsmt Cond', axis = 1, inplace = True)\n",
    "train_df.drop('Bsmt Exposure', axis = 1, inplace = True)\n",
    "train_df.drop('BsmtFin Type 1', axis = 1, inplace = True)\n",
    "train_df.drop('BsmtFin Type 2', axis = 1, inplace = True)\n",
    "train_df.drop('Electrical', axis = 1, inplace = True)\n",
    "train_df.drop('Fireplace Qu', axis = 1, inplace = True)\n",
    "train_df.drop('Garage Type', axis = 1, inplace = True)\n",
    "train_df.drop('Garage Yr Blt', axis = 1, inplace = True)\n",
    "train_df.drop('Garage Finish', axis = 1, inplace = True)\n",
    "train_df.drop('Garage Qual', axis = 1, inplace = True)\n",
    "train_df.drop('Garage Cond', axis = 1, inplace = True)\n",
    "train_df.drop('Mas Vnr Type', axis = 1, inplace = True)"
   ]
  },
  {
   "cell_type": "code",
   "execution_count": 280,
   "metadata": {},
   "outputs": [],
   "source": [
    "#Im dropping columns that have very few non null numbers in conjunction with \n",
    "#how they are usd according to the documentation for the data set\n",
    "test_df.drop('Pool QC', axis = 1, inplace= True)\n",
    "test_df.drop('Misc Feature', axis = 1, inplace = True)\n",
    "test_df.drop('Fence', axis = 1, inplace = True)\n",
    "test_df.drop('Alley', axis = 1, inplace = True)\n",
    "test_df.drop('Lot Frontage', axis = 1, inplace = True)\n",
    "test_df.drop('Bsmt Qual', axis = 1, inplace = True)\n",
    "test_df.drop('Bsmt Cond', axis = 1, inplace = True)\n",
    "test_df.drop('Bsmt Exposure', axis = 1, inplace = True)\n",
    "test_df.drop('BsmtFin Type 1', axis = 1, inplace = True)\n",
    "test_df.drop('BsmtFin Type 2', axis = 1, inplace = True)\n",
    "test_df.drop('Electrical', axis = 1, inplace = True)\n",
    "test_df.drop('Fireplace Qu', axis = 1, inplace = True)\n",
    "test_df.drop('Garage Type', axis = 1, inplace = True)\n",
    "test_df.drop('Garage Yr Blt', axis = 1, inplace = True)\n",
    "test_df.drop('Garage Finish', axis = 1, inplace = True)\n",
    "test_df.drop('Garage Qual', axis = 1, inplace = True)\n",
    "test_df.drop('Garage Cond', axis = 1, inplace = True)\n",
    "test_df.drop('Mas Vnr Type', axis = 1, inplace = True)"
   ]
  },
  {
   "cell_type": "code",
   "execution_count": 287,
   "metadata": {},
   "outputs": [],
   "source": [
    "train_df['Garage Cars'].fillna(0.0, inplace=True)#replacing all nan values with 0 in these columns\n",
    "train_df['Garage Area'].fillna(0.0, inplace=True)\n",
    "train_df['Bsmt Full Bath'].fillna(0.0, inplace=True)\n",
    "train_df['Total Bsmt SF'].fillna(0.0, inplace=True)\n",
    "train_df['Mas Vnr Area'].fillna(0.0, inplace=True)"
   ]
  },
  {
   "cell_type": "code",
   "execution_count": 281,
   "metadata": {},
   "outputs": [],
   "source": [
    "test_df['Garage Cars'].fillna(0.0, inplace=True)#replacing all nan values with 0 in these columns\n",
    "test_df['Garage Area'].fillna(0.0, inplace=True)\n",
    "test_df['Bsmt Full Bath'].fillna(0.0, inplace=True)\n",
    "test_df['Total Bsmt SF'].fillna(0.0, inplace=True)\n",
    "test_df['Mas Vnr Area'].fillna(0.0, inplace=True)"
   ]
  },
  {
   "cell_type": "code",
   "execution_count": 296,
   "metadata": {},
   "outputs": [],
   "source": [
    "train_df_num = train_df.select_dtypes(['number'])"
   ]
  },
  {
   "cell_type": "code",
   "execution_count": 404,
   "metadata": {},
   "outputs": [],
   "source": [
    "features = [col for col in train_df_num.columns\n",
    "            if col != 'SalePrice']\n",
    "\n",
    "y = train_df['SalePrice']\n",
    "X = train_df_dumm[features]\n",
    "\n",
    "X_train, X_test, y_train, y_test = train_test_split(X, y)"
   ]
  },
  {
   "cell_type": "code",
   "execution_count": 405,
   "metadata": {},
   "outputs": [
    {
     "name": "stderr",
     "output_type": "stream",
     "text": [
      "/Users/jonathanbeatty/anaconda3/lib/python3.6/site-packages/pandas/core/frame.py:3787: SettingWithCopyWarning: \n",
      "A value is trying to be set on a copy of a slice from a DataFrame\n",
      "\n",
      "See the caveats in the documentation: http://pandas.pydata.org/pandas-docs/stable/indexing.html#indexing-view-versus-copy\n",
      "  downcast=downcast, **kwargs)\n"
     ]
    }
   ],
   "source": [
    "train_df_num.fillna(0.0,inplace=True)"
   ]
  },
  {
   "cell_type": "code",
   "execution_count": 312,
   "metadata": {},
   "outputs": [
    {
     "name": "stdout",
     "output_type": "stream",
     "text": [
      "<class 'pandas.core.frame.DataFrame'>\n",
      "RangeIndex: 2051 entries, 0 to 2050\n",
      "Data columns (total 37 columns):\n",
      "Id                 2051 non-null int64\n",
      "PID                2051 non-null int64\n",
      "MS SubClass        2051 non-null int64\n",
      "Lot Area           2051 non-null int64\n",
      "Overall Qual       2051 non-null int64\n",
      "Overall Cond       2051 non-null int64\n",
      "Year Built         2051 non-null int64\n",
      "Year Remod/Add     2051 non-null int64\n",
      "Mas Vnr Area       2051 non-null float64\n",
      "BsmtFin SF 1       2051 non-null float64\n",
      "BsmtFin SF 2       2051 non-null float64\n",
      "Bsmt Unf SF        2051 non-null float64\n",
      "Total Bsmt SF      2051 non-null float64\n",
      "1st Flr SF         2051 non-null int64\n",
      "2nd Flr SF         2051 non-null int64\n",
      "Low Qual Fin SF    2051 non-null int64\n",
      "Gr Liv Area        2051 non-null int64\n",
      "Bsmt Full Bath     2051 non-null float64\n",
      "Bsmt Half Bath     2051 non-null float64\n",
      "Full Bath          2051 non-null int64\n",
      "Half Bath          2051 non-null int64\n",
      "Bedroom AbvGr      2051 non-null int64\n",
      "Kitchen AbvGr      2051 non-null int64\n",
      "TotRms AbvGrd      2051 non-null int64\n",
      "Fireplaces         2051 non-null int64\n",
      "Garage Cars        2051 non-null float64\n",
      "Garage Area        2051 non-null float64\n",
      "Wood Deck SF       2051 non-null int64\n",
      "Open Porch SF      2051 non-null int64\n",
      "Enclosed Porch     2051 non-null int64\n",
      "3Ssn Porch         2051 non-null int64\n",
      "Screen Porch       2051 non-null int64\n",
      "Pool Area          2051 non-null int64\n",
      "Misc Val           2051 non-null int64\n",
      "Mo Sold            2051 non-null int64\n",
      "Yr Sold            2051 non-null int64\n",
      "SalePrice          2051 non-null int64\n",
      "dtypes: float64(9), int64(28)\n",
      "memory usage: 592.9 KB\n"
     ]
    }
   ],
   "source": [
    "train_df_num.info()"
   ]
  },
  {
   "cell_type": "code",
   "execution_count": 284,
   "metadata": {},
   "outputs": [],
   "source": [
    "test_df_num = test_df.select_dtypes(['number'])"
   ]
  },
  {
   "cell_type": "code",
   "execution_count": 305,
   "metadata": {},
   "outputs": [
    {
     "name": "stdout",
     "output_type": "stream",
     "text": [
      "<class 'pandas.core.frame.DataFrame'>\n",
      "RangeIndex: 879 entries, 0 to 878\n",
      "Data columns (total 36 columns):\n",
      "Id                 879 non-null int64\n",
      "PID                879 non-null int64\n",
      "MS SubClass        879 non-null int64\n",
      "Lot Area           879 non-null int64\n",
      "Overall Qual       879 non-null int64\n",
      "Overall Cond       879 non-null int64\n",
      "Year Built         879 non-null int64\n",
      "Year Remod/Add     879 non-null int64\n",
      "Mas Vnr Area       879 non-null float64\n",
      "BsmtFin SF 1       879 non-null float64\n",
      "BsmtFin SF 2       879 non-null float64\n",
      "Bsmt Unf SF        879 non-null float64\n",
      "Total Bsmt SF      879 non-null float64\n",
      "1st Flr SF         879 non-null int64\n",
      "2nd Flr SF         879 non-null int64\n",
      "Low Qual Fin SF    879 non-null int64\n",
      "Gr Liv Area        879 non-null int64\n",
      "Bsmt Full Bath     879 non-null float64\n",
      "Bsmt Half Bath     879 non-null float64\n",
      "Full Bath          879 non-null int64\n",
      "Half Bath          879 non-null int64\n",
      "Bedroom AbvGr      879 non-null int64\n",
      "Kitchen AbvGr      879 non-null int64\n",
      "TotRms AbvGrd      879 non-null int64\n",
      "Fireplaces         879 non-null int64\n",
      "Garage Cars        879 non-null float64\n",
      "Garage Area        879 non-null float64\n",
      "Wood Deck SF       879 non-null int64\n",
      "Open Porch SF      879 non-null int64\n",
      "Enclosed Porch     879 non-null int64\n",
      "3Ssn Porch         879 non-null int64\n",
      "Screen Porch       879 non-null int64\n",
      "Pool Area          879 non-null int64\n",
      "Misc Val           879 non-null int64\n",
      "Mo Sold            879 non-null int64\n",
      "Yr Sold            879 non-null int64\n",
      "dtypes: float64(9), int64(27)\n",
      "memory usage: 247.3 KB\n"
     ]
    }
   ],
   "source": [
    "test_df_num.info()"
   ]
  },
  {
   "cell_type": "code",
   "execution_count": 306,
   "metadata": {},
   "outputs": [
    {
     "data": {
      "text/plain": [
       "<matplotlib.axes._subplots.AxesSubplot at 0x1c25d09400>"
      ]
     },
     "execution_count": 306,
     "metadata": {},
     "output_type": "execute_result"
    },
    {
     "data": {
      "image/png": "[encoded data removed]",
      "text/plain": [
       "<Figure size 1080x1080 with 2 Axes>"
      ]
     },
     "metadata": {},
     "output_type": "display_data"
    }
   ],
   "source": [
    "plt.figure(figsize =(15,15))\n",
    "sns.heatmap(train_df.corr(), cmap=\"GnBu_r\",)"
   ]
  },
  {
   "cell_type": "code",
   "execution_count": 308,
   "metadata": {},
   "outputs": [],
   "source": [
    "# print('Ridge cross val score: ', cross_val_score(rcv, X_train, y_train, cv = 10).mean())\n",
    "# print('Lasso cross val score: ', cross_val_score(lcv, X_train, y_train, cv = 10).mean())\n",
    "# #print('ElasticNet cross val score: ', cross_val_score(regr, X_train, y_train, cv = 10).mean())"
   ]
  },
  {
   "cell_type": "code",
   "execution_count": 403,
   "metadata": {},
   "outputs": [
    {
     "name": "stdout",
     "output_type": "stream",
     "text": [
      "                            OLS Regression Results                            \n",
      "==============================================================================\n",
      "Dep. Variable:              SalePrice   R-squared:                       0.835\n",
      "Model:                            OLS   Adj. R-squared:                  0.831\n",
      "Method:                 Least Squares   F-statistic:                     229.9\n",
      "Date:                Tue, 21 Aug 2018   Prob (F-statistic):               0.00\n",
      "Time:                        15:47:08   Log-Likelihood:                -18102.\n",
      "No. Observations:                1538   AIC:                         3.627e+04\n",
      "Df Residuals:                    1504   BIC:                         3.645e+04\n",
      "Df Model:                          33                                         \n",
      "Covariance Type:            nonrobust                                         \n",
      "===================================================================================\n",
      "                      coef    std err          t      P>|t|      [0.025      0.975]\n",
      "-----------------------------------------------------------------------------------\n",
      "Id                 -0.7059      1.000     -0.706      0.480      -2.668       1.256\n",
      "PID             -7.751e-06   4.82e-06     -1.608      0.108   -1.72e-05    1.71e-06\n",
      "MS SubClass      -148.0578     22.980     -6.443      0.000    -193.134    -102.982\n",
      "Lot Area            0.4669      0.129      3.632      0.000       0.215       0.719\n",
      "Overall Qual     1.706e+04   1010.607     16.883      0.000    1.51e+04     1.9e+04\n",
      "Overall Cond     2442.3925    920.271      2.654      0.008     637.242    4247.543\n",
      "Year Built        323.9627     53.736      6.029      0.000     218.557     429.369\n",
      "Year Remod/Add    234.7949     60.581      3.876      0.000     115.963     353.626\n",
      "Mas Vnr Area       26.9125      5.542      4.856      0.000      16.041      37.784\n",
      "BsmtFin SF 1        7.3266      2.178      3.363      0.001       3.054      11.600\n",
      "BsmtFin SF 2        5.0318      3.920      1.284      0.199      -2.657      12.720\n",
      "Bsmt Unf SF        -3.3951      2.095     -1.621      0.105      -7.504       0.713\n",
      "Total Bsmt SF       8.9633      2.867      3.126      0.002       3.339      14.587\n",
      "1st Flr SF         21.3157      5.236      4.071      0.000      11.045      31.587\n",
      "2nd Flr SF         18.6070      4.867      3.823      0.000       9.060      28.155\n",
      "Low Qual Fin SF   -11.0996     12.821     -0.866      0.387     -36.250      14.050\n",
      "Gr Liv Area        28.8231      5.046      5.712      0.000      18.924      38.722\n",
      "Bsmt Full Bath   7177.0098   2305.352      3.113      0.002    2654.963    1.17e+04\n",
      "Bsmt Half Bath  -1711.4861   3528.302     -0.485      0.628   -8632.401    5209.429\n",
      "Full Bath        1008.0892   2432.022      0.415      0.679   -3762.425    5778.603\n",
      "Half Bath       -4914.2918   2367.510     -2.076      0.038   -9558.263    -270.321\n",
      "Bedroom AbvGr   -5072.2930   1480.126     -3.427      0.001   -7975.623   -2168.963\n",
      "Kitchen AbvGr   -1.051e+04   4892.458     -2.149      0.032   -2.01e+04    -915.079\n",
      "TotRms AbvGrd    2848.7433   1102.692      2.583      0.010     685.766    5011.721\n",
      "Fireplaces       4363.2910   1593.748      2.738      0.006    1237.087    7489.495\n",
      "Garage Cars      8184.6676   2564.648      3.191      0.001    3154.002    1.32e+04\n",
      "Garage Area         7.7567      9.004      0.861      0.389      -9.905      25.418\n",
      "Wood Deck SF       33.9539      7.005      4.847      0.000      20.214      47.694\n",
      "Open Porch SF      22.8678     13.282      1.722      0.085      -3.185      48.921\n",
      "Enclosed Porch     23.2214     14.873      1.561      0.119      -5.952      52.395\n",
      "3Ssn Porch         40.9846     31.230      1.312      0.190     -20.274     102.243\n",
      "Screen Porch       61.5415     14.888      4.134      0.000      32.337      90.746\n",
      "Pool Area         -92.5681     20.351     -4.549      0.000    -132.488     -52.649\n",
      "Misc Val          -12.1165      1.317     -9.197      0.000     -14.701      -9.532\n",
      "Mo Sold           429.1922    302.175      1.420      0.156    -163.537    1021.922\n",
      "Yr Sold          -569.3198     58.867     -9.671      0.000    -684.789    -453.851\n",
      "==============================================================================\n",
      "Omnibus:                      686.304   Durbin-Watson:                   2.002\n",
      "Prob(Omnibus):                  0.000   Jarque-Bera (JB):            65289.879\n",
      "Skew:                          -1.132   Prob(JB):                         0.00\n",
      "Kurtosis:                      34.839   Cond. No.                     1.16e+16\n",
      "==============================================================================\n",
      "\n",
      "Warnings:\n",
      "[1] Standard Errors assume that the covariance matrix of the errors is correctly specified.\n",
      "[2] The smallest eigenvalue is 6.22e-12. This might indicate that there are\n",
      "strong multicollinearity problems or that the design matrix is singular.\n"
     ]
    }
   ],
   "source": [
    "\n",
    "model=sm.OLS(y_train,X_train)\n",
    "result=model.fit()\n",
    "print(result.summary())"
   ]
  },
  {
   "cell_type": "code",
   "execution_count": 406,
   "metadata": {},
   "outputs": [
    {
     "name": "stdout",
     "output_type": "stream",
     "text": [
      "score:  0.8376534224401233\n"
     ]
    },
    {
     "data": {
      "image/png": "[encoded data removed]",
      "text/plain": [
       "<Figure size 576x576 with 1 Axes>"
      ]
     },
     "metadata": {},
     "output_type": "display_data"
    }
   ],
   "source": [
    "lr = LinearRegression()\n",
    "model = lr.fit(X, y)\n",
    "predictions  =  model.predict(X)\n",
    "score        =  model.score(X, y)\n",
    "\n",
    "# Plot the model\n",
    "plt.figure(figsize=(8,8))\n",
    "plt.scatter(predictions, y, s=30, c='r', marker='+', zorder=10)\n",
    "plt.xlabel(\"Predicted Values from features - $\\hat{y}$\")\n",
    "plt.ylabel(\"Actual Sales Price - y\")\n",
    "\n",
    "plt.plot([0, np.max(y)], [0, np.max(y)], c = 'k')\n",
    "\n",
    "\n",
    "print(\"score: \", score)"
   ]
  },
  {
   "cell_type": "code",
   "execution_count": 407,
   "metadata": {},
   "outputs": [
    {
     "name": "stdout",
     "output_type": "stream",
     "text": [
      "0.8359061327406023\n",
      "0.8434537231345204\n"
     ]
    }
   ],
   "source": [
    "print(lr.score(X_train, y_train))\n",
    "print(lr.score(X_test, y_test))"
   ]
  },
  {
   "cell_type": "code",
   "execution_count": 421,
   "metadata": {},
   "outputs": [
    {
     "data": {
      "text/plain": [
       "StandardScaler(copy=True, with_mean=True, with_std=True)"
      ]
     },
     "execution_count": 421,
     "metadata": {},
     "output_type": "execute_result"
    }
   ],
   "source": [
    "ss = StandardScaler()\n",
    "ss.fit(test_df_dumm)\n",
    "# X_train_scaled = ss.transform(X_train)\n",
    "# X_test_scaled = ss.transform(X_test)"
   ]
  },
  {
   "cell_type": "code",
   "execution_count": 409,
   "metadata": {},
   "outputs": [],
   "source": [
    "def ridge_coefs(X, Y, alphas):\n",
    "    \n",
    "    # set up the list to hold the different sets of coefficients:\n",
    "    coefs = []\n",
    "    \n",
    "    # Set up a ridge regression object\n",
    "    ridge_reg = Ridge()\n",
    "    \n",
    "    # Iterate through the alphas fed into the function:\n",
    "    for a in alphas:\n",
    "        \n",
    "        # On each alpha reset the ridge model's alpha to the current one:\n",
    "        ridge_reg.set_params(alpha=a)\n",
    "        \n",
    "        # fit or refit the model on the provided X, Y\n",
    "        ridge_reg.fit(X, Y)\n",
    "        \n",
    "        # Get out the coefficient list\n",
    "        coefs.append(ridge_reg.coef_)\n",
    "        \n",
    "    return coefs"
   ]
  },
  {
   "cell_type": "code",
   "execution_count": 410,
   "metadata": {},
   "outputs": [
    {
     "name": "stdout",
     "output_type": "stream",
     "text": [
      "138.94954943731375\n"
     ]
    },
    {
     "data": {
      "text/plain": [
       "0.837818685225606"
      ]
     },
     "execution_count": 410,
     "metadata": {},
     "output_type": "execute_result"
    }
   ],
   "source": [
    "\n",
    "rcv = RidgeCV(alphas = np.logspace(0, 5, 50), cv = 10)\n",
    "\n",
    "rcv.fit(X_train_scaled, y_train)\n",
    "\n",
    "print(rcv.alpha_)#the best penalty term we found\n",
    "\n",
    "rcv.score(X_train_scaled, y_train)"
   ]
  },
  {
   "cell_type": "code",
   "execution_count": 418,
   "metadata": {},
   "outputs": [],
   "source": [
    "features = [col for col in test_df_dumm.columns\n",
    "            if col != 'SalePrice']\n",
    "\n",
    "X = test_df_dumm[features]"
   ]
  },
  {
   "cell_type": "code",
   "execution_count": 419,
   "metadata": {},
   "outputs": [
    {
     "ename": "ValueError",
     "evalue": "operands could not be broadcast together with shapes (879,78) (36,) (879,78) ",
     "output_type": "error",
     "traceback": [
      "\u001b[0;31m---------------------------------------------------------------------------\u001b[0m",
      "\u001b[0;31mValueError\u001b[0m                                Traceback (most recent call last)",
      "\u001b[0;32m<ipython-input-419-3e134130f651>\u001b[0m in \u001b[0;36m<module>\u001b[0;34m()\u001b[0m\n\u001b[0;32m----> 1\u001b[0;31m \u001b[0mX_kaggle_s\u001b[0m \u001b[0;34m=\u001b[0m \u001b[0mss\u001b[0m\u001b[0;34m.\u001b[0m\u001b[0mtransform\u001b[0m\u001b[0;34m(\u001b[0m\u001b[0mX\u001b[0m\u001b[0;34m)\u001b[0m\u001b[0;34m\u001b[0m\u001b[0m\n\u001b[0m\u001b[1;32m      2\u001b[0m \u001b[0mX_kaggle_s\u001b[0m\u001b[0;34m.\u001b[0m\u001b[0mshape\u001b[0m\u001b[0;34m\u001b[0m\u001b[0m\n",
      "\u001b[0;32m~/anaconda3/lib/python3.6/site-packages/sklearn/preprocessing/data.py\u001b[0m in \u001b[0;36mtransform\u001b[0;34m(self, X, y, copy)\u001b[0m\n\u001b[1;32m    690\u001b[0m         \u001b[0;32melse\u001b[0m\u001b[0;34m:\u001b[0m\u001b[0;34m\u001b[0m\u001b[0m\n\u001b[1;32m    691\u001b[0m             \u001b[0;32mif\u001b[0m \u001b[0mself\u001b[0m\u001b[0;34m.\u001b[0m\u001b[0mwith_mean\u001b[0m\u001b[0;34m:\u001b[0m\u001b[0;34m\u001b[0m\u001b[0m\n\u001b[0;32m--> 692\u001b[0;31m                 \u001b[0mX\u001b[0m \u001b[0;34m-=\u001b[0m \u001b[0mself\u001b[0m\u001b[0;34m.\u001b[0m\u001b[0mmean_\u001b[0m\u001b[0;34m\u001b[0m\u001b[0m\n\u001b[0m\u001b[1;32m    693\u001b[0m             \u001b[0;32mif\u001b[0m \u001b[0mself\u001b[0m\u001b[0;34m.\u001b[0m\u001b[0mwith_std\u001b[0m\u001b[0;34m:\u001b[0m\u001b[0;34m\u001b[0m\u001b[0m\n\u001b[1;32m    694\u001b[0m                 \u001b[0mX\u001b[0m \u001b[0;34m/=\u001b[0m \u001b[0mself\u001b[0m\u001b[0;34m.\u001b[0m\u001b[0mscale_\u001b[0m\u001b[0;34m\u001b[0m\u001b[0m\n",
      "\u001b[0;31mValueError\u001b[0m: operands could not be broadcast together with shapes (879,78) (36,) (879,78) "
     ]
    }
   ],
   "source": [
    "X_kaggle_s = ss.transform(X)\n",
    "X_kaggle_s.shape"
   ]
  },
  {
   "cell_type": "code",
   "execution_count": 350,
   "metadata": {},
   "outputs": [
    {
     "data": {
      "text/plain": [
       "879"
      ]
     },
     "execution_count": 350,
     "metadata": {},
     "output_type": "execute_result"
    }
   ],
   "source": [
    "# predictions = rcv.predict(X_kaggle_s)\n",
    "# len(predictions)"
   ]
  },
  {
   "cell_type": "code",
   "execution_count": 401,
   "metadata": {},
   "outputs": [
    {
     "ename": "ValueError",
     "evalue": "shapes (879,78) and (36,) not aligned: 78 (dim 1) != 36 (dim 0)",
     "output_type": "error",
     "traceback": [
      "\u001b[0;31m---------------------------------------------------------------------------\u001b[0m",
      "\u001b[0;31mValueError\u001b[0m                                Traceback (most recent call last)",
      "\u001b[0;32m<ipython-input-401-bf6140d58fae>\u001b[0m in \u001b[0;36m<module>\u001b[0;34m()\u001b[0m\n\u001b[0;32m----> 1\u001b[0;31m \u001b[0mpredictions\u001b[0m \u001b[0;34m=\u001b[0m \u001b[0mlcv\u001b[0m\u001b[0;34m.\u001b[0m\u001b[0mpredict\u001b[0m\u001b[0;34m(\u001b[0m\u001b[0mX_kaggle_s\u001b[0m\u001b[0;34m)\u001b[0m\u001b[0;34m\u001b[0m\u001b[0m\n\u001b[0m\u001b[1;32m      2\u001b[0m \u001b[0mlen\u001b[0m\u001b[0;34m(\u001b[0m\u001b[0mpredictions\u001b[0m\u001b[0;34m)\u001b[0m\u001b[0;34m\u001b[0m\u001b[0m\n",
      "\u001b[0;32m~/anaconda3/lib/python3.6/site-packages/sklearn/linear_model/base.py\u001b[0m in \u001b[0;36mpredict\u001b[0;34m(self, X)\u001b[0m\n\u001b[1;32m    254\u001b[0m             \u001b[0mReturns\u001b[0m \u001b[0mpredicted\u001b[0m \u001b[0mvalues\u001b[0m\u001b[0;34m.\u001b[0m\u001b[0;34m\u001b[0m\u001b[0m\n\u001b[1;32m    255\u001b[0m         \"\"\"\n\u001b[0;32m--> 256\u001b[0;31m         \u001b[0;32mreturn\u001b[0m \u001b[0mself\u001b[0m\u001b[0;34m.\u001b[0m\u001b[0m_decision_function\u001b[0m\u001b[0;34m(\u001b[0m\u001b[0mX\u001b[0m\u001b[0;34m)\u001b[0m\u001b[0;34m\u001b[0m\u001b[0m\n\u001b[0m\u001b[1;32m    257\u001b[0m \u001b[0;34m\u001b[0m\u001b[0m\n\u001b[1;32m    258\u001b[0m     \u001b[0m_preprocess_data\u001b[0m \u001b[0;34m=\u001b[0m \u001b[0mstaticmethod\u001b[0m\u001b[0;34m(\u001b[0m\u001b[0m_preprocess_data\u001b[0m\u001b[0;34m)\u001b[0m\u001b[0;34m\u001b[0m\u001b[0m\n",
      "\u001b[0;32m~/anaconda3/lib/python3.6/site-packages/sklearn/linear_model/base.py\u001b[0m in \u001b[0;36m_decision_function\u001b[0;34m(self, X)\u001b[0m\n\u001b[1;32m    239\u001b[0m         \u001b[0mX\u001b[0m \u001b[0;34m=\u001b[0m \u001b[0mcheck_array\u001b[0m\u001b[0;34m(\u001b[0m\u001b[0mX\u001b[0m\u001b[0;34m,\u001b[0m \u001b[0maccept_sparse\u001b[0m\u001b[0;34m=\u001b[0m\u001b[0;34m[\u001b[0m\u001b[0;34m'csr'\u001b[0m\u001b[0;34m,\u001b[0m \u001b[0;34m'csc'\u001b[0m\u001b[0;34m,\u001b[0m \u001b[0;34m'coo'\u001b[0m\u001b[0;34m]\u001b[0m\u001b[0;34m)\u001b[0m\u001b[0;34m\u001b[0m\u001b[0m\n\u001b[1;32m    240\u001b[0m         return safe_sparse_dot(X, self.coef_.T,\n\u001b[0;32m--> 241\u001b[0;31m                                dense_output=True) + self.intercept_\n\u001b[0m\u001b[1;32m    242\u001b[0m \u001b[0;34m\u001b[0m\u001b[0m\n\u001b[1;32m    243\u001b[0m     \u001b[0;32mdef\u001b[0m \u001b[0mpredict\u001b[0m\u001b[0;34m(\u001b[0m\u001b[0mself\u001b[0m\u001b[0;34m,\u001b[0m \u001b[0mX\u001b[0m\u001b[0;34m)\u001b[0m\u001b[0;34m:\u001b[0m\u001b[0;34m\u001b[0m\u001b[0m\n",
      "\u001b[0;32m~/anaconda3/lib/python3.6/site-packages/sklearn/utils/extmath.py\u001b[0m in \u001b[0;36msafe_sparse_dot\u001b[0;34m(a, b, dense_output)\u001b[0m\n\u001b[1;32m    138\u001b[0m         \u001b[0;32mreturn\u001b[0m \u001b[0mret\u001b[0m\u001b[0;34m\u001b[0m\u001b[0m\n\u001b[1;32m    139\u001b[0m     \u001b[0;32melse\u001b[0m\u001b[0;34m:\u001b[0m\u001b[0;34m\u001b[0m\u001b[0m\n\u001b[0;32m--> 140\u001b[0;31m         \u001b[0;32mreturn\u001b[0m \u001b[0mnp\u001b[0m\u001b[0;34m.\u001b[0m\u001b[0mdot\u001b[0m\u001b[0;34m(\u001b[0m\u001b[0ma\u001b[0m\u001b[0;34m,\u001b[0m \u001b[0mb\u001b[0m\u001b[0;34m)\u001b[0m\u001b[0;34m\u001b[0m\u001b[0m\n\u001b[0m\u001b[1;32m    141\u001b[0m \u001b[0;34m\u001b[0m\u001b[0m\n\u001b[1;32m    142\u001b[0m \u001b[0;34m\u001b[0m\u001b[0m\n",
      "\u001b[0;31mValueError\u001b[0m: shapes (879,78) and (36,) not aligned: 78 (dim 1) != 36 (dim 0)"
     ]
    }
   ],
   "source": [
    "predictions = lcv.predict(X_kaggle_s)\n",
    "len(predictions)"
   ]
  },
  {
   "cell_type": "code",
   "execution_count": 321,
   "metadata": {},
   "outputs": [],
   "source": [
    "from cycler import cycler\n",
    "\n",
    "def coef_plotter(alphas, coefs, feature_names, to_alpha, regtype='ridge'):\n",
    "    \n",
    "    # Get the full range of alphas before subsetting to keep the plots from \n",
    "    # resetting axes each time. (We use these values to set static axes later).\n",
    "    amin = np.min(alphas)\n",
    "    amax = np.max(alphas)\n",
    "    \n",
    "    # Subset the alphas and coefficients to just the ones below the set limit\n",
    "    # from the interactive widget:\n",
    "    alphas = [a for a in alphas if a <= to_alpha]\n",
    "    coefs = coefs[0:len(alphas)]\n",
    "    \n",
    "    # Get some colors from seaborn:\n",
    "    colors = sns.color_palette(\"husl\", len(coefs[0]))\n",
    "    \n",
    "    # Get the figure and reset the size to be wider:\n",
    "    fig = plt.figure()\n",
    "    fig.set_size_inches(18,5)\n",
    "\n",
    "    # We have two axes this time on our figure. \n",
    "    # The fig.add_subplot adds axes to our figure. The number inside stands for:\n",
    "    #[figure_rows|figure_cols|position_of_current_axes]\n",
    "    ax1 = fig.add_subplot(121)\n",
    "    \n",
    "    # Give it the color cycler:\n",
    "    ax1.set_prop_cycle(cycler('color', colors))\n",
    "    \n",
    "    # Print a vertical line showing our current alpha threshold:\n",
    "    ax1.axvline(to_alpha, lw=2, ls='dashed', c='k', alpha=0.4)\n",
    "    \n",
    "    # Plot the lines of the alphas on x-axis and coefficients on y-axis\n",
    "    ax1.plot(alphas, coefs, lw=2)\n",
    "    \n",
    "    # set labels for axes:\n",
    "    ax1.set_xlabel('alpha', fontsize=20)\n",
    "    ax1.set_ylabel('coefficients', fontsize=20)\n",
    "    \n",
    "    # If this is for the ridge, set this to a log scale on the x-axis:\n",
    "    if regtype == 'ridge':\n",
    "        ax1.set_xscale('log')\n",
    "    \n",
    "    # Enforce the axis limits:\n",
    "    ax1.set_xlim([amin, amax])\n",
    "    \n",
    "    # Put a title on the axis\n",
    "    ax1.set_title(regtype+' coef paths\\n', fontsize=20)\n",
    "    \n",
    "    # Get the ymin and ymax for this axis to enforce it to be the same on the \n",
    "    # second chart:\n",
    "    ymin, ymax = ax1.get_ylim()\n",
    "\n",
    "    # Add our second axes for the barplot in position 2:\n",
    "    ax2 = fig.add_subplot(122)\n",
    "    \n",
    "    # Position the bars according to their index from the feature names variable:\n",
    "    ax2.bar(list(range(1, len(feature_names)+1)), coefs[-1], align='center', color=colors)\n",
    "    ax2.set_xticks(list(range(1, len(feature_names)+1)))\n",
    "    \n",
    "    # Reset the ticks from numbers to acutally be the names:\n",
    "    ax2.set_xticklabels(feature_names, rotation=65, fontsize=12)\n",
    "    \n",
    "    # enforce limits and add titles, labels\n",
    "    ax2.set_ylim([ymin, ymax])\n",
    "    ax2.set_title(regtype+' predictor coefs\\n', fontsize=20)\n",
    "    ax2.set_xlabel('coefficients', fontsize=20)\n",
    "    ax2.set_ylabel('alpha', fontsize=20)\n",
    "    \n",
    "    plt.show()\n",
    "\n"
   ]
  },
  {
   "cell_type": "code",
   "execution_count": 322,
   "metadata": {},
   "outputs": [],
   "source": [
    "from ipywidgets import *\n",
    "from IPython.display import display\n",
    "# np.logspace gives us points between specified orders of magnitude on a logarithmic scale. It is base 10.\n",
    "r_alphas = np.logspace(0, 5, 50)\n",
    "\n",
    "# Get the coefficients for each alpha for the Ridge, using the function above\n",
    "r_coefs = ridge_coefs(X_train_scaled, y_train, r_alphas)\n",
    "\n",
    "def ridge_plot_runner(log_of_alpha=0):\n",
    "    coef_plotter(r_alphas, r_coefs, X.columns, 10**log_of_alpha, regtype='ridge')\n",
    "\n",
    "interact(ridge_plot_runner, log_of_alpha=(0.000001,5.0,0.05))"
   ]
  },
  {
   "cell_type": "code",
   "execution_count": 399,
   "metadata": {},
   "outputs": [
    {
     "name": "stdout",
     "output_type": "stream",
     "text": [
      "1.0\n"
     ]
    },
    {
     "data": {
      "text/plain": [
       "0.8345913285776977"
      ]
     },
     "execution_count": 399,
     "metadata": {},
     "output_type": "execute_result"
    }
   ],
   "source": [
    "np.linspace(.25,1,5)\n",
    "\n",
    "# A:\n",
    "\n",
    "lcv = LassoCV(alphas = np.linspace(.25,1,50), cv = 10)\n",
    "\n",
    "lcv.fit(X_train_scaled, y_train)\n",
    "\n",
    "print(lcv.alpha_)#the best penalty term we found\n",
    "\n",
    "lcv.score(X_train_scaled, y_train)"
   ]
  },
  {
   "cell_type": "code",
   "execution_count": null,
   "metadata": {},
   "outputs": [],
   "source": [
    "regr = ElasticNetCV(cv=5)"
   ]
  },
  {
   "cell_type": "code",
   "execution_count": 351,
   "metadata": {},
   "outputs": [
    {
     "data": {
      "text/plain": [
       "(879,)"
      ]
     },
     "execution_count": 351,
     "metadata": {},
     "output_type": "execute_result"
    }
   ],
   "source": [
    "predictions.shape"
   ]
  },
  {
   "cell_type": "code",
   "execution_count": 352,
   "metadata": {},
   "outputs": [
    {
     "data": {
      "text/plain": [
       "(879,)"
      ]
     },
     "execution_count": 352,
     "metadata": {},
     "output_type": "execute_result"
    }
   ],
   "source": [
    "test_df['Id'].shape"
   ]
  },
  {
   "cell_type": "code",
   "execution_count": 357,
   "metadata": {},
   "outputs": [
    {
     "data": {
      "text/plain": [
       "{'Id': 0      2658\n",
       " 1      2718\n",
       " 2      2414\n",
       " 3      1989\n",
       " 4       625\n",
       " 5       333\n",
       " 6      1327\n",
       " 7       858\n",
       " 8        95\n",
       " 9      1568\n",
       " 10     2482\n",
       " 11     1364\n",
       " 12     2584\n",
       " 13      818\n",
       " 14     2673\n",
       " 15     2089\n",
       " 16     1297\n",
       " 17      790\n",
       " 18     2616\n",
       " 19      720\n",
       " 20      222\n",
       " 21      557\n",
       " 22     1148\n",
       " 23     2766\n",
       " 24      534\n",
       " 25     1452\n",
       " 26      630\n",
       " 27     2648\n",
       " 28      125\n",
       " 29     1904\n",
       "        ... \n",
       " 849     933\n",
       " 850    2784\n",
       " 851     972\n",
       " 852     599\n",
       " 853    2614\n",
       " 854    2582\n",
       " 855    1409\n",
       " 856     175\n",
       " 857     352\n",
       " 858     976\n",
       " 859    2134\n",
       " 860     984\n",
       " 861    2396\n",
       " 862    1673\n",
       " 863     404\n",
       " 864     607\n",
       " 865     814\n",
       " 866     868\n",
       " 867    2271\n",
       " 868    1633\n",
       " 869     337\n",
       " 870    2765\n",
       " 871    1746\n",
       " 872     368\n",
       " 873    2806\n",
       " 874    1662\n",
       " 875    1234\n",
       " 876    1373\n",
       " 877    1672\n",
       " 878    1939\n",
       " Name: Id, Length: 879, dtype: int64,\n",
       " 'SalePrice': array([127149.89756302, 158826.32559029, 216463.25554437, 118539.39727818,\n",
       "        195088.46448747,  68671.16321077, 105439.64675324, 137586.22401458,\n",
       "        175973.69499062, 183262.3102166 , 155212.26189432, 136106.27396176,\n",
       "        159038.84445968, 282093.8663502 , 175032.7612338 , 148649.96055267,\n",
       "        136466.05231348, 116805.21877118, 238036.952124  , 194349.51717526,\n",
       "        160561.88708854, 132141.10515578, 197426.15621154, 172545.92552607,\n",
       "        190777.56047957, 108509.22617432, 122049.29611034, 126517.38692541,\n",
       "        155201.02563186,  12187.22403393,  96306.96565762,  82912.59633328,\n",
       "        244604.95937423, 159418.17420345, 223537.8089061 , 197160.46887902,\n",
       "        118082.57613179,  88544.03054905, 126305.53475656, 203532.28622281,\n",
       "        148318.75936297, 218825.25913436, 160341.10912703, 168126.95975068,\n",
       "        224414.5758606 ,  80757.84272898, 222933.96435277, 135519.92171476,\n",
       "        136587.88253614, 122952.95577779, 109656.11137661, 218320.29005097,\n",
       "        254928.56387784, 124373.51861306, 104197.66836898, 175750.54429648,\n",
       "        176202.82019647, 166789.11088902, 182724.99601435, 239099.9716076 ,\n",
       "        310037.35397768, 104099.01007602, 162915.86966643, 184252.89167016,\n",
       "        177972.883443  , 317139.7188861 ,  79153.84716177, 194572.51385145,\n",
       "         57548.95638497, 158413.04355863,  80143.02318401, 315993.26507897,\n",
       "        216292.20318031, 189091.17386672, 134049.670869  , 199518.85265049,\n",
       "        522613.09097622, 176118.76524468, 153426.22197454,  82505.61882016,\n",
       "        327606.81091041, 213584.04182771, 129912.38742263, 118779.40144022,\n",
       "        117560.21806778, 201763.12650569, 287287.47324394, 124135.21570927,\n",
       "        175676.87557929, 263534.81840286, 157074.90126812, 136608.28768857,\n",
       "        101640.25217562, 131094.9860721 , 213003.89820973, 123119.04031302,\n",
       "        136903.99872568, 195292.85118442, 229065.91761595, 196258.69156386,\n",
       "        230213.86330905, 307063.96556893, 177643.10183505, 136749.6747743 ,\n",
       "        399356.50128483, 152554.66157842, 101845.7653898 , 183632.41538587,\n",
       "        204793.86954035, 171489.83041363, 127854.54193183, 201444.62782253,\n",
       "        231816.6170122 , 121092.11795845, 133406.22268759, 243419.19121308,\n",
       "        452381.80735091, 130367.185989  , 113024.4089666 , 311765.91356669,\n",
       "        202639.88756227, 361813.98574426, 282593.39985224, 282137.9721886 ,\n",
       "        177028.08331997, 114779.60339099, 332825.1795897 , 109289.92981493,\n",
       "        139247.99915943, 121452.28372353, 275792.22943493, 132410.15690459,\n",
       "        207610.30790459, 145690.81427706, 159711.81122159, 170070.02295833,\n",
       "        223887.54493958, 205645.68030947, 189810.01295914, 194073.7185856 ,\n",
       "        135632.32373624, 187164.3052506 , 150756.8223895 , 142817.11405767,\n",
       "        165414.90385663,  94917.30029369, 149677.44504647, 155976.26583722,\n",
       "        143277.19163997,  52014.59531636, 224403.9111297 , 202500.64939282,\n",
       "        158750.23500733, 115888.6700649 , 126959.53926828, 114610.58710419,\n",
       "        134711.04924541,  47614.42830034, 159547.90651368, 253953.93537077,\n",
       "        273469.79066542, 217612.64644527, 117184.8730877 , 144332.44168399,\n",
       "        413116.9474553 , 252004.21116752, 263522.35609929, 185452.55483038,\n",
       "        176477.61883826, 260902.70179728, 200591.61069988, 404947.62456425,\n",
       "        145005.13073345, 186715.63278792, 156444.79587524, 210884.78108277,\n",
       "        190631.39905738,  72684.848294  , 159099.44101308,  66070.79273523,\n",
       "        129667.31004169, 117904.70790286, 214429.5958686 , 265900.5243489 ,\n",
       "        199226.20976353, 173879.88320393, 125055.17822811, 211637.37088915,\n",
       "        195126.35743609, 131390.26183509,  62074.00396154, 203661.34632555,\n",
       "        126973.79069766, 130585.82763153,  92206.99301363, 182895.7636916 ,\n",
       "        161178.40985009, 276949.56633056, 132203.39683395, 142731.39696585,\n",
       "        118776.51066888, 293070.39461488, 198837.48735336, 116257.89711176,\n",
       "        192040.09390721, 133825.35186755,  89275.80659042, 141616.90465416,\n",
       "        157114.56278421, 220762.44142628, 217342.36969452, 212078.26263426,\n",
       "        194298.99379087, 102001.46091891, 354548.12674106, 261539.66223406,\n",
       "        205715.30207962, 252710.74663015, 163222.98896015,  82675.90312839,\n",
       "        136551.75378018, 181933.43410131, 163088.10145214, 190172.48972798,\n",
       "        181040.25075144, 135033.72764519,  95826.86134907, 251322.19362941,\n",
       "        234678.66198311, 153246.27259051, 278876.24924306, 163684.73188914,\n",
       "         54836.12575914, 144149.32111347,  85632.73831248, 240608.5065698 ,\n",
       "        189448.61999853,  92256.35981602, 372368.06602409, 324591.51287009,\n",
       "        191323.07250778, 241062.08133678, 176101.66186768, 285437.10424578,\n",
       "        244355.61824198, 299739.5963631 , 264665.69699836, 129113.5015779 ,\n",
       "        134070.73989341, 195940.61800061, 276550.03328605, 266475.52220796,\n",
       "        167394.75938042, 243839.36755456, 234808.45837069, 196386.52160733,\n",
       "         71067.43810496,  80834.01864054, 364795.62153814, 241738.27697097,\n",
       "        261248.93762269, 199399.05385043, 139233.85705259, 129659.92358905,\n",
       "        167541.86034409, 237108.8294389 , 172680.7453328 , 146813.10467838,\n",
       "        229210.11010512, 170869.34426361, 151369.80498614, 179428.96295701,\n",
       "        194786.3848705 , 174922.66029298, 346649.82479157, 120717.14987   ,\n",
       "        150151.88571392, 155951.21965679, 179791.5732532 , 110110.90389668,\n",
       "        120446.38185136, 244741.4617849 , 134896.55239743, 111172.81814402,\n",
       "         96902.64308875, 132620.86469278, 231460.835152  , 195182.53652879,\n",
       "        116639.12688631, 105095.23363183, 131040.81626956, 102798.39266381,\n",
       "        159572.25792708,  61118.15093042, 102707.15514779, 177108.0307182 ,\n",
       "        158415.82535049, 210901.38479873, 263109.16513689, 254081.03262416,\n",
       "        138843.00224021, 168518.21157146, 290897.48778187, 143465.09980575,\n",
       "        142497.79622534,  71285.27923688,  89757.84292994, 264743.65801818,\n",
       "        207985.90337869, 135251.91795108, 113491.86703144, 223691.57873488,\n",
       "        215985.50257759, 250939.11663943, 278400.52786855, 123292.9405377 ,\n",
       "        315695.71890613, 323878.25792439, 235288.20653768, 241396.5998279 ,\n",
       "        122819.63815755,  50854.44731797, 117627.13359072, 131417.19992731,\n",
       "        249526.90909096, 136155.28288906, 142466.96465835, 156789.87423658,\n",
       "        176010.57293412, 228537.5197777 , 147962.056172  , 162114.85690869,\n",
       "        198578.47419887, 158091.26549897, 217712.68663593, 106962.05592631,\n",
       "        160924.80260373,  85210.0676711 , 106312.39879919, 143616.40619817,\n",
       "        175412.63260292, 224957.21990668,  99509.28658167, 119180.57596021,\n",
       "        185558.62075302, 281243.07145431, 251965.57132408, 199059.17959795,\n",
       "        108772.20457391, 218038.74107646, 156237.54112428, 135032.46077891,\n",
       "        160157.76347938, 126763.15450219, 285418.02030401, 127213.51175253,\n",
       "        276091.65132852, 161577.54953174, 210951.77277902, 260240.99450549,\n",
       "        121961.1681984 , 162246.39402321, 146777.30863404,  84659.49337045,\n",
       "        164143.60346975, 207263.87344058, 267487.09274465, 217015.96750396,\n",
       "        204606.9276478 , 222732.15841034, 111029.30908399, 211155.85139289,\n",
       "        132035.50388874, 163959.81688413, 360177.94667164, 128722.60144099,\n",
       "        264501.92974568, 161888.20125434, 253150.95260181, 217408.16547334,\n",
       "        127104.68886846, 145493.05722781, 130742.71206543, 311164.93260319,\n",
       "        292764.68059712, 226757.36848101, 207275.33487706, 159357.40356086,\n",
       "        199461.71190242, 148170.11519224, 134927.19332138,  99297.15896489,\n",
       "        290779.84391309, 184613.21761707, 121831.44004306, 199369.38911518,\n",
       "         44933.95036096, 180458.36015217, 198018.62647536, 128234.14119825,\n",
       "         76745.16294146, 239770.94343187, 244967.85173382, 110866.90877519,\n",
       "        267958.50435095, 130814.65349051, 117575.34866901, 126981.02122106,\n",
       "        234755.28924944, 267718.69083531, 131326.59638784, 130107.34329858,\n",
       "        137909.42302211, 271405.85821323, 140334.06507883, 273689.15899549,\n",
       "        325416.54274748, 116346.45024116, 243826.82428527, 114915.12946546,\n",
       "        188149.89442153, 244899.05000838, 117518.96446156, 250453.05663675,\n",
       "        115150.70536525, 239212.78683507, 346636.49351989, 212777.70697176,\n",
       "        219895.35364864, 153561.72423507, 295734.53866276, 108586.73188064,\n",
       "        141119.51187228, 118431.44545511, 211426.68900319,  96276.7510397 ,\n",
       "        296519.5921345 , 197989.78521215, 185159.23213833, 148915.8738862 ,\n",
       "        187411.79857652, 230492.13472559, 141766.3536453 , 125661.926514  ,\n",
       "        181357.93194074, 176369.47730367, 208210.85726537,  40662.90419531,\n",
       "         73897.03450423, 294335.83136466, 137202.04333395, 227816.64101666,\n",
       "        281172.82883693, 217842.4970765 , 183617.90864143, 191024.53467829,\n",
       "        242655.22990314, 234625.42962823, 127489.41455338, 247686.93751287,\n",
       "        137660.71381284, 150949.5246603 , 136049.19508228, 164930.05359167,\n",
       "        473265.1851822 , 113474.8796047 , 221000.92345472, 230457.13542201,\n",
       "        237332.14297176, 137090.7211265 , 123548.81866488, 147305.9539865 ,\n",
       "        236721.3769862 , 187099.09321739, 104041.25721657, 261636.68694758,\n",
       "        235025.79236314, 110913.06555294, 159414.20892134,  97740.59568885,\n",
       "        188594.44498147,  69436.5578333 , 238417.01368809,  71352.65153368,\n",
       "        190554.60434662, 283937.01616443, 170745.83892153, 161576.66978155,\n",
       "        204935.18424246, 191714.35544806, 137294.99411185, 148050.08575659,\n",
       "        217806.24246927, 176589.63859527, 254006.69179224, 331697.8371406 ,\n",
       "        196029.44846888,  89763.87560841, 130874.60565967, 177702.47875912,\n",
       "        122090.63380556, 182597.17104449, 234479.03341753, 196885.26814644,\n",
       "        154896.84508631, 239172.14547768, 136231.56820243, 269704.66433248,\n",
       "        109848.5361482 , 102424.09117333, 263041.46859802, 106365.48800013,\n",
       "        130718.54909059, 132167.04051852, 149002.59165276,  18232.17429057,\n",
       "        203711.46408989, 168184.17377529, 205008.96932768, 268254.96489078,\n",
       "        269055.64899024, 103141.74655401, 121457.00179628, 120925.86767955,\n",
       "        115275.28164453, 240807.44667558, 359109.63631625, 197085.02502496,\n",
       "        104252.58929811, 126419.89059749,  17962.78595623, 139454.81702221,\n",
       "        202715.22403468, 176262.3338012 , 196177.40395097, 161725.86938282,\n",
       "        140773.64275304,  51044.70898755, 238980.87461488, 143410.2221947 ,\n",
       "        173162.56260072, 149301.32183001,  86111.11133953,  54870.19301223,\n",
       "        158116.28127702, 233000.23845277, 314736.85661239, 255735.49066651,\n",
       "        107149.08699481, 111724.72414909, 277145.04458046, 125720.66377075,\n",
       "        287196.41920675, 102144.81581501, 211604.79483327, 213229.7144366 ,\n",
       "         73614.16792882, 124029.66140555, 154503.99219002, 125758.0758008 ,\n",
       "        165276.5864449 , 115568.23071254, 161710.99032072, 180458.42179547,\n",
       "        140197.39145988, 153995.45255218, 129554.32566459, 126098.03932698,\n",
       "        200805.44463692, 118253.22856421, 155472.7203706 , 176054.60348181,\n",
       "        134695.79314658,  79578.03594006, 141623.38636163, 207474.54870984,\n",
       "        134084.09638746, 187841.9254124 , 154234.41376951, 222540.69926215,\n",
       "        110058.80301427, 150827.36683103, 163549.56766819, 285720.55338155,\n",
       "        107329.17699843, 166436.70526556, 170538.99398869, 148610.9814051 ,\n",
       "        115913.51284637, 292435.41464641, 234361.71883   , 118792.38200323,\n",
       "         96658.41930929, 144980.37052599, 138880.72181917, 328427.05216704,\n",
       "        233892.60414058, 116596.49075581, 144185.64801743, 114001.53084963,\n",
       "        314119.62338271, 133643.28253268, 212508.85967801, 121401.66973452,\n",
       "        199803.75363213, 234009.78714529,  79549.08706179,  98621.41935972,\n",
       "        121250.74850694, 173890.85046626, 116490.28460576,  94783.68179275,\n",
       "        339235.11021635, 229293.38139801, 145943.05249875, 145249.64659928,\n",
       "         17122.64721747, 201699.21977411, 288176.01869071,  59542.90899548,\n",
       "        189846.02644298, 213069.19995578, 124642.68251076, 158053.4789185 ,\n",
       "         93157.02207994, 130804.1639902 , 178159.98846223, 188138.82549772,\n",
       "        119707.06494843, 320115.64054116, 143070.15272966, 172405.18285205,\n",
       "        212354.4326964 , 123155.81107141,  50708.6931989 , 146383.53476203,\n",
       "        195492.44523876, 169639.07603639, 178801.33713955, 142354.15669688,\n",
       "        148112.33182754, 294976.28913428, 125210.85377203, 233206.40146435,\n",
       "        250359.07960771, 156260.81812518,  58823.20249034, 258054.81099613,\n",
       "        175492.63459762, 147993.28543543, 193456.42374194, 131533.9736142 ,\n",
       "        113043.96360841,  99478.2402168 , 173538.39584469,  48326.93379698,\n",
       "        159625.7293881 , 213844.6655812 , 166743.46953494, 262094.97499541,\n",
       "        195313.26617836, 151730.35199194, 175863.13146513, 198163.14546331,\n",
       "        257775.26858884, 354581.25955979, 223553.48463213, 221300.2042502 ,\n",
       "        185979.17370235, 184717.23646185, 299496.55254104, 226508.88170273,\n",
       "        273171.23653404, 244502.42047374, 131852.93619932,  97353.01651175,\n",
       "        150101.49579373, 154715.54345307,  74456.98385005, 145572.35827966,\n",
       "        113623.14826126, 319232.97412259, 235351.0750823 , 199718.24281682,\n",
       "        255360.71109245, 196908.36567835, 157510.95164832, 235139.15802693,\n",
       "        347314.33441232, 135374.77732627, 197479.08967463,  60907.80378744,\n",
       "        127791.95386277, 244715.69281423, 116307.22336923, 209797.98142715,\n",
       "        183407.82064123, 209474.09161361, 301038.1947989 ,  99218.36088838,\n",
       "        266773.34742803, 157911.7516566 , 153270.78858097, 176014.83948264,\n",
       "        128882.80007452, 293374.25847694, 246084.20847921, 157431.50223742,\n",
       "        143524.81904292, 107421.44885102, 293545.71582527, 235271.4586722 ,\n",
       "         59875.78933125, 137357.56562227, 143399.79674773, 120738.09098348,\n",
       "        243270.15051531, 285219.01298154, 230715.70243014, 197723.28068552,\n",
       "        234375.77670371, 233491.10771473, 271364.34795411, 133621.41548526,\n",
       "        116096.27627162, 294258.07664392, 194153.71921199, 210627.87424415,\n",
       "        118714.12260594, 258839.7510777 ,  72230.55653551, 241448.10224064,\n",
       "        209169.84535173, 257377.33398971, 149452.83123095, 194729.25858672,\n",
       "        170921.43844871, 145895.7200745 , 174323.82908203, 153184.86243679,\n",
       "        130467.26093835, 234538.11086695, 201143.53552082, 158095.79479345,\n",
       "        109189.73908059, 181692.31777692, 166806.63873014, 204324.11712942,\n",
       "        240563.08424229, 136872.45009599, 315906.12746274, 263219.38763927,\n",
       "        149609.65961024, 147242.55526557, 173264.79707884, 117992.78227684,\n",
       "        118381.66826246, 372985.39980598,  77169.64772354, 160500.12192628,\n",
       "        213804.84984255, 151303.76236854, 230736.30285671, 132807.29613888,\n",
       "        240938.30267908, 154761.18062548, 305295.88886398, 192347.6679427 ,\n",
       "        207833.83432702, 298207.82072848, 170935.24209329, 246262.75160556,\n",
       "        193870.37252897, 135424.9632403 , 216662.38955342, 110824.56652352,\n",
       "        138587.53540061, 207261.57545797, -41228.64668427, 117113.39558822,\n",
       "        162639.29529221, 172828.65159046, 337862.84296267,  87968.08160489,\n",
       "        115721.9631767 , 100000.188175  , 167575.44405396, 264591.80099863,\n",
       "        137497.88253363, 279242.92631332, 193813.06086881, 191489.47436523,\n",
       "        246728.69998291, 193053.67706994, 297266.78842167, 171353.93127327,\n",
       "        221731.4072337 , 185209.25745368, 222609.45802798, 246070.21904115,\n",
       "        241049.98460071, 130907.10137018, 114779.5676008 , 184574.57859218,\n",
       "         76198.10337085, 257662.60971364, 101534.54622366, 118628.8880256 ,\n",
       "        199047.2720932 , 147959.73814285, 120862.41977115, 146779.98222868,\n",
       "        304810.60943469, 175314.63423192, 159545.96176284, 225173.24908579,\n",
       "        202040.943942  , 215484.03182005,  76028.53917447, 107055.76348004,\n",
       "        168729.1009159 , 181958.57467904, 103238.66488229, 337252.41914773,\n",
       "         91451.81021399, 178456.8939424 , 218508.83788507, 354329.29097377,\n",
       "        152114.71050176, 178063.38154684, 151029.29210935, 179083.66092441,\n",
       "        155308.28069498, 280568.78355199, 212473.8987854 , 151016.31737122,\n",
       "        126793.05720461, 304142.26003635, 135597.63213305, 112168.05910574,\n",
       "        135988.22235354, 231405.03062545, 194844.44856607, 236667.68319995,\n",
       "        130142.81634811, 176826.47409869, 189347.13856532, 274978.02416359,\n",
       "        240764.23559508, 132512.35647176, 183347.02536607, 179005.39856515,\n",
       "        186203.15397952, 141228.89762461, 142914.87393621, 172280.33533714,\n",
       "         77630.67144903, 221387.55289093,  72694.80465273, 209460.7269195 ,\n",
       "        107173.98773376, 327047.8572369 , 162003.45546736, 131052.56918417,\n",
       "        178213.26742484, 154778.97569873, 197640.86180556, 194292.26782821,\n",
       "        227854.8119601 , 166184.59545018, 193423.45102885, 254213.67640839,\n",
       "        294428.09056949, 215870.85842764, 204259.22345533, 221021.68472338,\n",
       "        129454.33346753, 104855.3778366 , 123296.774538  ])}"
      ]
     },
     "execution_count": 357,
     "metadata": {},
     "output_type": "execute_result"
    }
   ],
   "source": [
    "pred_dic = {'Id': test_df['Id'],\n",
    "            'SalePrice': predictions\n",
    "           }\n",
    "pred_dic\n",
    "\n",
    "preds_df = pd.DataFrame(data=pred_dic)\n",
    "preds_df.info()\n",
    "\n",
    "preds_df.shape"
   ]
  },
  {
   "cell_type": "code",
   "execution_count": 359,
   "metadata": {},
   "outputs": [],
   "source": [
    "preds_df[['Id', 'SalePrice']].to_csv('kaggle_preds.csv', index=False)#without this it adds unnamed:0"
   ]
  },
  {
   "cell_type": "code",
   "execution_count": 368,
   "metadata": {},
   "outputs": [
    {
     "name": "stdout",
     "output_type": "stream",
     "text": [
      "<class 'pandas.core.frame.DataFrame'>\n",
      "RangeIndex: 2051 entries, 0 to 2050\n",
      "Data columns (total 63 columns):\n",
      "Id                 2051 non-null int64\n",
      "PID                2051 non-null int64\n",
      "MS SubClass        2051 non-null int64\n",
      "MS Zoning          2051 non-null object\n",
      "Lot Area           2051 non-null int64\n",
      "Street             2051 non-null object\n",
      "Lot Shape          2051 non-null object\n",
      "Land Contour       2051 non-null object\n",
      "Utilities          2051 non-null object\n",
      "Lot Config         2051 non-null object\n",
      "Land Slope         2051 non-null object\n",
      "Neighborhood       2051 non-null object\n",
      "Condition 1        2051 non-null object\n",
      "Condition 2        2051 non-null object\n",
      "Bldg Type          2051 non-null object\n",
      "House Style        2051 non-null object\n",
      "Overall Qual       2051 non-null int64\n",
      "Overall Cond       2051 non-null int64\n",
      "Year Built         2051 non-null int64\n",
      "Year Remod/Add     2051 non-null int64\n",
      "Roof Style         2051 non-null object\n",
      "Roof Matl          2051 non-null object\n",
      "Exterior 1st       2051 non-null object\n",
      "Exterior 2nd       2051 non-null object\n",
      "Mas Vnr Area       2051 non-null float64\n",
      "Exter Qual         2051 non-null object\n",
      "Exter Cond         2051 non-null object\n",
      "Foundation         2051 non-null object\n",
      "BsmtFin SF 1       2051 non-null float64\n",
      "BsmtFin SF 2       2051 non-null float64\n",
      "Bsmt Unf SF        2051 non-null float64\n",
      "Total Bsmt SF      2051 non-null float64\n",
      "Heating            2051 non-null object\n",
      "Heating QC         2051 non-null object\n",
      "Central Air        2051 non-null object\n",
      "1st Flr SF         2051 non-null int64\n",
      "2nd Flr SF         2051 non-null int64\n",
      "Low Qual Fin SF    2051 non-null int64\n",
      "Gr Liv Area        2051 non-null int64\n",
      "Bsmt Full Bath     2051 non-null float64\n",
      "Bsmt Half Bath     2051 non-null float64\n",
      "Full Bath          2051 non-null int64\n",
      "Half Bath          2051 non-null int64\n",
      "Bedroom AbvGr      2051 non-null int64\n",
      "Kitchen AbvGr      2051 non-null int64\n",
      "Kitchen Qual       2051 non-null object\n",
      "TotRms AbvGrd      2051 non-null int64\n",
      "Functional         2051 non-null object\n",
      "Fireplaces         2051 non-null int64\n",
      "Garage Cars        2051 non-null float64\n",
      "Garage Area        2051 non-null float64\n",
      "Paved Drive        2051 non-null object\n",
      "Wood Deck SF       2051 non-null int64\n",
      "Open Porch SF      2051 non-null int64\n",
      "Enclosed Porch     2051 non-null int64\n",
      "3Ssn Porch         2051 non-null int64\n",
      "Screen Porch       2051 non-null int64\n",
      "Pool Area          2051 non-null int64\n",
      "Misc Val           2051 non-null int64\n",
      "Mo Sold            2051 non-null int64\n",
      "Yr Sold            2051 non-null int64\n",
      "Sale Type          2051 non-null object\n",
      "SalePrice          2051 non-null int64\n",
      "dtypes: float64(9), int64(28), object(26)\n",
      "memory usage: 1009.6+ KB\n"
     ]
    }
   ],
   "source": [
    "train_df.info()"
   ]
  },
  {
   "cell_type": "code",
   "execution_count": 367,
   "metadata": {},
   "outputs": [],
   "source": [
    "train_df.fillna(0.0,inplace=True)"
   ]
  },
  {
   "cell_type": "code",
   "execution_count": 375,
   "metadata": {},
   "outputs": [],
   "source": [
    "train_df_dumm = pd.get_dummies(train_df, columns=['MS Zoning', 'Street', 'Neighborhood', 'House Style'])"
   ]
  },
  {
   "cell_type": "code",
   "execution_count": 380,
   "metadata": {},
   "outputs": [],
   "source": [
    "test_df_dumm = pd.get_dummies(test_df, columns=['MS Zoning', 'Street', 'Neighborhood', 'House Style'])"
   ]
  },
  {
   "cell_type": "code",
   "execution_count": 384,
   "metadata": {},
   "outputs": [],
   "source": [
    "test_df_dumm = test_df_dumm.select_dtypes(['number'])"
   ]
  },
  {
   "cell_type": "code",
   "execution_count": 400,
   "metadata": {},
   "outputs": [
    {
     "name": "stdout",
     "output_type": "stream",
     "text": [
      "<class 'pandas.core.frame.DataFrame'>\n",
      "RangeIndex: 879 entries, 0 to 878\n",
      "Data columns (total 78 columns):\n",
      "Id                      879 non-null int64\n",
      "PID                     879 non-null int64\n",
      "MS SubClass             879 non-null int64\n",
      "Lot Area                879 non-null int64\n",
      "Overall Qual            879 non-null int64\n",
      "Overall Cond            879 non-null int64\n",
      "Year Built              879 non-null int64\n",
      "Year Remod/Add          879 non-null int64\n",
      "Mas Vnr Area            879 non-null float64\n",
      "BsmtFin SF 1            879 non-null float64\n",
      "BsmtFin SF 2            879 non-null float64\n",
      "Bsmt Unf SF             879 non-null float64\n",
      "Total Bsmt SF           879 non-null float64\n",
      "1st Flr SF              879 non-null int64\n",
      "2nd Flr SF              879 non-null int64\n",
      "Low Qual Fin SF         879 non-null int64\n",
      "Gr Liv Area             879 non-null int64\n",
      "Bsmt Full Bath          879 non-null float64\n",
      "Bsmt Half Bath          879 non-null float64\n",
      "Full Bath               879 non-null int64\n",
      "Half Bath               879 non-null int64\n",
      "Bedroom AbvGr           879 non-null int64\n",
      "Kitchen AbvGr           879 non-null int64\n",
      "TotRms AbvGrd           879 non-null int64\n",
      "Fireplaces              879 non-null int64\n",
      "Garage Cars             879 non-null float64\n",
      "Garage Area             879 non-null float64\n",
      "Wood Deck SF            879 non-null int64\n",
      "Open Porch SF           879 non-null int64\n",
      "Enclosed Porch          879 non-null int64\n",
      "3Ssn Porch              879 non-null int64\n",
      "Screen Porch            879 non-null int64\n",
      "Pool Area               879 non-null int64\n",
      "Misc Val                879 non-null int64\n",
      "Mo Sold                 879 non-null int64\n",
      "Yr Sold                 879 non-null int64\n",
      "MS Zoning_C (all)       879 non-null uint8\n",
      "MS Zoning_FV            879 non-null uint8\n",
      "MS Zoning_I (all)       879 non-null uint8\n",
      "MS Zoning_RH            879 non-null uint8\n",
      "MS Zoning_RL            879 non-null uint8\n",
      "MS Zoning_RM            879 non-null uint8\n",
      "Street_Grvl             879 non-null uint8\n",
      "Street_Pave             879 non-null uint8\n",
      "Neighborhood_Blmngtn    879 non-null uint8\n",
      "Neighborhood_Blueste    879 non-null uint8\n",
      "Neighborhood_BrDale     879 non-null uint8\n",
      "Neighborhood_BrkSide    879 non-null uint8\n",
      "Neighborhood_ClearCr    879 non-null uint8\n",
      "Neighborhood_CollgCr    879 non-null uint8\n",
      "Neighborhood_Crawfor    879 non-null uint8\n",
      "Neighborhood_Edwards    879 non-null uint8\n",
      "Neighborhood_Gilbert    879 non-null uint8\n",
      "Neighborhood_Greens     879 non-null uint8\n",
      "Neighborhood_IDOTRR     879 non-null uint8\n",
      "Neighborhood_MeadowV    879 non-null uint8\n",
      "Neighborhood_Mitchel    879 non-null uint8\n",
      "Neighborhood_NAmes      879 non-null uint8\n",
      "Neighborhood_NPkVill    879 non-null uint8\n",
      "Neighborhood_NWAmes     879 non-null uint8\n",
      "Neighborhood_NoRidge    879 non-null uint8\n",
      "Neighborhood_NridgHt    879 non-null uint8\n",
      "Neighborhood_OldTown    879 non-null uint8\n",
      "Neighborhood_SWISU      879 non-null uint8\n",
      "Neighborhood_Sawyer     879 non-null uint8\n",
      "Neighborhood_SawyerW    879 non-null uint8\n",
      "Neighborhood_Somerst    879 non-null uint8\n",
      "Neighborhood_StoneBr    879 non-null uint8\n",
      "Neighborhood_Timber     879 non-null uint8\n",
      "Neighborhood_Veenker    879 non-null uint8\n",
      "House Style_1.5Fin      879 non-null uint8\n",
      "House Style_1.5Unf      879 non-null uint8\n",
      "House Style_1Story      879 non-null uint8\n",
      "House Style_2.5Fin      879 non-null uint8\n",
      "House Style_2.5Unf      879 non-null uint8\n",
      "House Style_2Story      879 non-null uint8\n",
      "House Style_SFoyer      879 non-null uint8\n",
      "House Style_SLvl        879 non-null uint8\n",
      "dtypes: float64(9), int64(27), uint8(42)\n",
      "memory usage: 283.3 KB\n"
     ]
    }
   ],
   "source": [
    "test_df_dumm.info()"
   ]
  },
  {
   "cell_type": "code",
   "execution_count": null,
   "metadata": {},
   "outputs": [],
   "source": []
  }
 ],
 "metadata": {
  "kernelspec": {
   "display_name": "Python 3",
   "language": "python",
   "name": "python3"
  },
  "language_info": {
   "codemirror_mode": {
    "name": "ipython",
    "version": 3
   },
   "file_extension": ".py",
   "mimetype": "text/x-python",
   "name": "python",
   "nbconvert_exporter": "python",
   "pygments_lexer": "ipython3",
   "version": "3.6.5"
  }
 },
 "nbformat": 4,
 "nbformat_minor": 2
}
