{
 "cells": [
  {
   "cell_type": "code",
   "execution_count": 17,
   "metadata": {},
   "outputs": [],
   "source": [
    "import pandas as pd\n",
    "import numpy as np\n",
    "import seaborn as sns\n",
    "import matplotlib.pyplot as plt\n",
    "import scipy.stats as stats\n",
    "from sklearn.model_selection import train_test_split, KFold, cross_val_score\n",
    "from sklearn.metrics import r2_score\n",
    "from sklearn.preprocessing import StandardScaler, PolynomialFeatures\n",
    "from sklearn.linear_model import Ridge, Lasso, ElasticNet, LinearRegression, RidgeCV, LassoCV, ElasticNetCV\n",
    "from sklearn.model_selection import cross_val_score\n",
    "import statsmodels.api as sm\n",
    "from statsmodels.sandbox.regression.predstd import wls_prediction_std\n",
    "from sklearn.pipeline import Pipeline\n",
    "from sklearn.model_selection import GridSearchCV\n",
    "from sklearn.linear_model import LogisticRegression\n",
    "from sklearn.metrics import mean_squared_error\n",
    "\n",
    "%matplotlib inline\n",
    "sns.set_style('whitegrid')\n",
    "plt.style.use('fivethirtyeight')"
   ]
  },
  {
   "cell_type": "code",
   "execution_count": 3,
   "metadata": {},
   "outputs": [],
   "source": [
    "df = pd.read_csv('/Users/jonathanbeatty/Desktop/DataSets/Project_2/train.csv')\n",
    "\n",
    "test_df = pd.read_csv('/Users/jonathanbeatty/Desktop/DataSets/Project_2/test.csv')"
   ]
  },
  {
   "cell_type": "code",
   "execution_count": 4,
   "metadata": {},
   "outputs": [],
   "source": [
    "df.drop('Pool QC', axis = 1, inplace= True)\n",
    "df.drop('Misc Feature', axis = 1, inplace = True)\n",
    "df.drop('Fence', axis = 1, inplace = True)\n",
    "df.drop('Alley', axis = 1, inplace = True)\n",
    "df.drop('Lot Frontage', axis = 1, inplace = True)\n",
    "df.drop('Bsmt Qual', axis = 1, inplace = True)\n",
    "df.drop('Bsmt Cond', axis = 1, inplace = True)\n",
    "df.drop('Bsmt Exposure', axis = 1, inplace = True)\n",
    "df.drop('BsmtFin Type 1', axis = 1, inplace = True)\n",
    "df.drop('BsmtFin Type 2', axis = 1, inplace = True)\n",
    "df.drop('Electrical', axis = 1, inplace = True)\n",
    "df.drop('Fireplace Qu', axis = 1, inplace = True)\n",
    "df.drop('Garage Type', axis = 1, inplace = True)\n",
    "df.drop('Garage Yr Blt', axis = 1, inplace = True)\n",
    "df.drop('Garage Finish', axis = 1, inplace = True)\n",
    "df.drop('Garage Qual', axis = 1, inplace = True)\n",
    "df.drop('Garage Cond', axis = 1, inplace = True)\n",
    "df.drop('Mas Vnr Area', axis = 1, inplace = True)"
   ]
  },
  {
   "cell_type": "code",
   "execution_count": 5,
   "metadata": {},
   "outputs": [],
   "source": [
    "test_df.drop('Pool QC', axis = 1, inplace= True)\n",
    "test_df.drop('Misc Feature', axis = 1, inplace = True)\n",
    "test_df.drop('Fence', axis = 1, inplace = True)\n",
    "test_df.drop('Alley', axis = 1, inplace = True)\n",
    "test_df.drop('Lot Frontage', axis = 1, inplace = True)\n",
    "test_df.drop('Bsmt Qual', axis = 1, inplace = True)\n",
    "test_df.drop('Bsmt Cond', axis = 1, inplace = True)\n",
    "test_df.drop('Bsmt Exposure', axis = 1, inplace = True)\n",
    "test_df.drop('BsmtFin Type 1', axis = 1, inplace = True)\n",
    "test_df.drop('BsmtFin Type 2', axis = 1, inplace = True)\n",
    "test_df.drop('Electrical', axis = 1, inplace = True)\n",
    "test_df.drop('Fireplace Qu', axis = 1, inplace = True)\n",
    "test_df.drop('Garage Type', axis = 1, inplace = True)\n",
    "test_df.drop('Garage Yr Blt', axis = 1, inplace = True)\n",
    "test_df.drop('Garage Finish', axis = 1, inplace = True)\n",
    "test_df.drop('Garage Qual', axis = 1, inplace = True)\n",
    "test_df.drop('Garage Cond', axis = 1, inplace = True)\n",
    "test_df.drop('Mas Vnr Area', axis = 1, inplace = True)"
   ]
  },
  {
   "cell_type": "code",
   "execution_count": 6,
   "metadata": {},
   "outputs": [
    {
     "name": "stdout",
     "output_type": "stream",
     "text": [
      "<class 'pandas.core.frame.DataFrame'>\n",
      "RangeIndex: 2051 entries, 0 to 2050\n",
      "Data columns (total 63 columns):\n",
      "Id                 2051 non-null int64\n",
      "PID                2051 non-null int64\n",
      "MS SubClass        2051 non-null int64\n",
      "MS Zoning          2051 non-null object\n",
      "Lot Area           2051 non-null int64\n",
      "Street             2051 non-null object\n",
      "Lot Shape          2051 non-null object\n",
      "Land Contour       2051 non-null object\n",
      "Utilities          2051 non-null object\n",
      "Lot Config         2051 non-null object\n",
      "Land Slope         2051 non-null object\n",
      "Neighborhood       2051 non-null object\n",
      "Condition 1        2051 non-null object\n",
      "Condition 2        2051 non-null object\n",
      "Bldg Type          2051 non-null object\n",
      "House Style        2051 non-null object\n",
      "Overall Qual       2051 non-null int64\n",
      "Overall Cond       2051 non-null int64\n",
      "Year Built         2051 non-null int64\n",
      "Year Remod/Add     2051 non-null int64\n",
      "Roof Style         2051 non-null object\n",
      "Roof Matl          2051 non-null object\n",
      "Exterior 1st       2051 non-null object\n",
      "Exterior 2nd       2051 non-null object\n",
      "Mas Vnr Type       2029 non-null object\n",
      "Exter Qual         2051 non-null object\n",
      "Exter Cond         2051 non-null object\n",
      "Foundation         2051 non-null object\n",
      "BsmtFin SF 1       2050 non-null float64\n",
      "BsmtFin SF 2       2050 non-null float64\n",
      "Bsmt Unf SF        2050 non-null float64\n",
      "Total Bsmt SF      2050 non-null float64\n",
      "Heating            2051 non-null object\n",
      "Heating QC         2051 non-null object\n",
      "Central Air        2051 non-null object\n",
      "1st Flr SF         2051 non-null int64\n",
      "2nd Flr SF         2051 non-null int64\n",
      "Low Qual Fin SF    2051 non-null int64\n",
      "Gr Liv Area        2051 non-null int64\n",
      "Bsmt Full Bath     2049 non-null float64\n",
      "Bsmt Half Bath     2049 non-null float64\n",
      "Full Bath          2051 non-null int64\n",
      "Half Bath          2051 non-null int64\n",
      "Bedroom AbvGr      2051 non-null int64\n",
      "Kitchen AbvGr      2051 non-null int64\n",
      "Kitchen Qual       2051 non-null object\n",
      "TotRms AbvGrd      2051 non-null int64\n",
      "Functional         2051 non-null object\n",
      "Fireplaces         2051 non-null int64\n",
      "Garage Cars        2050 non-null float64\n",
      "Garage Area        2050 non-null float64\n",
      "Paved Drive        2051 non-null object\n",
      "Wood Deck SF       2051 non-null int64\n",
      "Open Porch SF      2051 non-null int64\n",
      "Enclosed Porch     2051 non-null int64\n",
      "3Ssn Porch         2051 non-null int64\n",
      "Screen Porch       2051 non-null int64\n",
      "Pool Area          2051 non-null int64\n",
      "Misc Val           2051 non-null int64\n",
      "Mo Sold            2051 non-null int64\n",
      "Yr Sold            2051 non-null int64\n",
      "Sale Type          2051 non-null object\n",
      "SalePrice          2051 non-null int64\n",
      "dtypes: float64(8), int64(28), object(27)\n",
      "memory usage: 1009.6+ KB\n"
     ]
    }
   ],
   "source": [
    "df.info()"
   ]
  },
  {
   "cell_type": "code",
   "execution_count": 7,
   "metadata": {},
   "outputs": [
    {
     "name": "stdout",
     "output_type": "stream",
     "text": [
      "<class 'pandas.core.frame.DataFrame'>\n",
      "RangeIndex: 879 entries, 0 to 878\n",
      "Data columns (total 62 columns):\n",
      "Id                 879 non-null int64\n",
      "PID                879 non-null int64\n",
      "MS SubClass        879 non-null int64\n",
      "MS Zoning          879 non-null object\n",
      "Lot Area           879 non-null int64\n",
      "Street             879 non-null object\n",
      "Lot Shape          879 non-null object\n",
      "Land Contour       879 non-null object\n",
      "Utilities          879 non-null object\n",
      "Lot Config         879 non-null object\n",
      "Land Slope         879 non-null object\n",
      "Neighborhood       879 non-null object\n",
      "Condition 1        879 non-null object\n",
      "Condition 2        879 non-null object\n",
      "Bldg Type          879 non-null object\n",
      "House Style        879 non-null object\n",
      "Overall Qual       879 non-null int64\n",
      "Overall Cond       879 non-null int64\n",
      "Year Built         879 non-null int64\n",
      "Year Remod/Add     879 non-null int64\n",
      "Roof Style         879 non-null object\n",
      "Roof Matl          879 non-null object\n",
      "Exterior 1st       879 non-null object\n",
      "Exterior 2nd       879 non-null object\n",
      "Mas Vnr Type       878 non-null object\n",
      "Exter Qual         879 non-null object\n",
      "Exter Cond         879 non-null object\n",
      "Foundation         879 non-null object\n",
      "BsmtFin SF 1       879 non-null float64\n",
      "BsmtFin SF 2       879 non-null float64\n",
      "Bsmt Unf SF        879 non-null float64\n",
      "Total Bsmt SF      879 non-null float64\n",
      "Heating            879 non-null object\n",
      "Heating QC         879 non-null object\n",
      "Central Air        879 non-null object\n",
      "1st Flr SF         879 non-null int64\n",
      "2nd Flr SF         879 non-null int64\n",
      "Low Qual Fin SF    879 non-null int64\n",
      "Gr Liv Area        879 non-null int64\n",
      "Bsmt Full Bath     879 non-null float64\n",
      "Bsmt Half Bath     879 non-null float64\n",
      "Full Bath          879 non-null int64\n",
      "Half Bath          879 non-null int64\n",
      "Bedroom AbvGr      879 non-null int64\n",
      "Kitchen AbvGr      879 non-null int64\n",
      "Kitchen Qual       879 non-null object\n",
      "TotRms AbvGrd      879 non-null int64\n",
      "Functional         879 non-null object\n",
      "Fireplaces         879 non-null int64\n",
      "Garage Cars        879 non-null float64\n",
      "Garage Area        879 non-null float64\n",
      "Paved Drive        879 non-null object\n",
      "Wood Deck SF       879 non-null int64\n",
      "Open Porch SF      879 non-null int64\n",
      "Enclosed Porch     879 non-null int64\n",
      "3Ssn Porch         879 non-null int64\n",
      "Screen Porch       879 non-null int64\n",
      "Pool Area          879 non-null int64\n",
      "Misc Val           879 non-null int64\n",
      "Mo Sold            879 non-null int64\n",
      "Yr Sold            879 non-null int64\n",
      "Sale Type          879 non-null object\n",
      "dtypes: float64(8), int64(27), object(27)\n",
      "memory usage: 425.8+ KB\n"
     ]
    }
   ],
   "source": [
    "test_df.info()"
   ]
  },
  {
   "cell_type": "code",
   "execution_count": 8,
   "metadata": {},
   "outputs": [],
   "source": [
    "df.fillna(0.0,inplace=True)"
   ]
  },
  {
   "cell_type": "code",
   "execution_count": 9,
   "metadata": {},
   "outputs": [],
   "source": [
    "test_df.fillna(0.0,inplace=True)"
   ]
  },
  {
   "cell_type": "code",
   "execution_count": 10,
   "metadata": {},
   "outputs": [],
   "source": [
    "# features = [each for each in df_numeric.columns if each != 'SalePrice']\n",
    "features = ['Lot Area', 'Overall Qual',\n",
    "             'Year Built', 'Year Remod/Add',\n",
    "            '1st Flr SF', 'Gr Liv Area', 'Full Bath', 'Garage Cars', 'Garage Area', \n",
    "            'Total Bsmt SF', '1st Flr SF', 'TotRms AbvGrd']\n",
    "# features_test = [each for each in test_df_numeric.columns if each != 'SalePrice']\n",
    "features_test =['Lot Area', 'Overall Qual',\n",
    "             'Year Built', 'Year Remod/Add',\n",
    "            '1st Flr SF', 'Gr Liv Area', 'Full Bath', 'Garage Cars', 'Garage Area', \n",
    "            'Total Bsmt SF', '1st Flr SF', 'TotRms AbvGrd']\n",
    "\n",
    "X = df[features]\n",
    "y = df['SalePrice']\n",
    "X_test = test_df[features_test]\n",
    "# kaggle_n = kaggle_new[common_to_both]\n",
    "# X_n = X[common_to_both]"
   ]
  },
  {
   "cell_type": "code",
   "execution_count": 11,
   "metadata": {},
   "outputs": [],
   "source": [
    "X_train, X_test, y_train, y_test = train_test_split(X, y, random_state=42)"
   ]
  },
  {
   "cell_type": "code",
   "execution_count": 12,
   "metadata": {},
   "outputs": [
    {
     "data": {
      "text/plain": [
       "(513,)"
      ]
     },
     "execution_count": 12,
     "metadata": {},
     "output_type": "execute_result"
    }
   ],
   "source": [
    "y_test.shape"
   ]
  },
  {
   "cell_type": "code",
   "execution_count": 13,
   "metadata": {},
   "outputs": [
    {
     "data": {
      "text/plain": [
       "(513,)"
      ]
     },
     "execution_count": 13,
     "metadata": {},
     "output_type": "execute_result"
    }
   ],
   "source": [
    "y_test.shape"
   ]
  },
  {
   "cell_type": "markdown",
   "metadata": {},
   "source": [
    "## LASSO REGRESSION MODELING"
   ]
  },
  {
   "cell_type": "code",
   "execution_count": 14,
   "metadata": {},
   "outputs": [],
   "source": [
    "# kaggle_n = kaggle_new[common_to_both]\n",
    "# X_n = X[common_to_both]\n",
    "\n",
    "# ss = StandardScaler()\n",
    "# ss.fit(X_n)\n",
    "# X_n_s = ss.transform(X_n)\n",
    "\n",
    "# kaggle_n_s = ss.transform(kaggle_n)\n",
    "\n",
    "# lcv = LassoCV(alphas = np.linspace(0.1,5,50), cv = 10)\n",
    "\n",
    "# lcv.fit(X_n_s, y)\n",
    "# print(lcv.score(X_n_s, y))\n",
    "# predictions = lcv.predict(kaggle_n_s)"
   ]
  },
  {
   "cell_type": "code",
   "execution_count": 19,
   "metadata": {},
   "outputs": [
    {
     "data": {
      "text/plain": [
       "Pipeline(memory=None,\n",
       "     steps=[('ss', StandardScaler(copy=True, with_mean=True, with_std=True)), ('lcv', LassoCV(alphas=None, copy_X=True, cv=None, eps=0.001, fit_intercept=True,\n",
       "    max_iter=1000, n_alphas=500, n_jobs=1, normalize=False, positive=False,\n",
       "    precompute='auto', random_state=None, selection='cyclic', tol=0.0001,\n",
       "    verbose=False))])"
      ]
     },
     "execution_count": 19,
     "metadata": {},
     "output_type": "execute_result"
    }
   ],
   "source": [
    "pipe = Pipeline([\n",
    "    ()\n",
    "    ('ss', StandardScaler()),\n",
    "    ('lcv', LassoCV(n_alphas=500))\n",
    "])\n",
    "\n",
    "pipe.fit(X_train, y_train)"
   ]
  },
  {
   "cell_type": "code",
   "execution_count": 21,
   "metadata": {},
   "outputs": [
    {
     "name": "stdout",
     "output_type": "stream",
     "text": [
      "0.7762947549468021\n",
      "0.8350676369334137\n"
     ]
    }
   ],
   "source": [
    "print(pipe.score(X_train, y_train))\n",
    "print(pipe.score(X_test, y_test))"
   ]
  },
  {
   "cell_type": "code",
   "execution_count": null,
   "metadata": {},
   "outputs": [],
   "source": [
    "# params_grid = {\n",
    "#     'ss__with_mean': [True, False],\n",
    "#     'ss__with_std': [True, False],\n",
    "# }\n",
    "\n",
    "# gs = GridSearchCV(pipe, params_grid, n_jobs=-1, verbose =2, cv=7)"
   ]
  },
  {
   "cell_type": "code",
   "execution_count": null,
   "metadata": {},
   "outputs": [],
   "source": [
    "gs.fit(X_train, y_train)"
   ]
  },
  {
   "cell_type": "code",
   "execution_count": null,
   "metadata": {},
   "outputs": [],
   "source": [
    "gs.best_estimator_"
   ]
  },
  {
   "cell_type": "code",
   "execution_count": null,
   "metadata": {},
   "outputs": [],
   "source": [
    "gs.best_score_"
   ]
  },
  {
   "cell_type": "code",
   "execution_count": null,
   "metadata": {},
   "outputs": [],
   "source": [
    "gs.best_params_"
   ]
  },
  {
   "cell_type": "code",
   "execution_count": null,
   "metadata": {},
   "outputs": [],
   "source": [
    "gs.score(X_train, y_train)"
   ]
  },
  {
   "cell_type": "code",
   "execution_count": null,
   "metadata": {},
   "outputs": [],
   "source": [
    "gs.score(X_test, y_test)"
   ]
  },
  {
   "cell_type": "code",
   "execution_count": null,
   "metadata": {},
   "outputs": [],
   "source": [
    "X_test_num[features_test].head()"
   ]
  },
  {
   "cell_type": "code",
   "execution_count": null,
   "metadata": {},
   "outputs": [],
   "source": [
    "X_train.shape"
   ]
  },
  {
   "cell_type": "code",
   "execution_count": null,
   "metadata": {},
   "outputs": [],
   "source": [
    "X_test_num[features_test].shape"
   ]
  },
  {
   "cell_type": "code",
   "execution_count": null,
   "metadata": {},
   "outputs": [],
   "source": [
    "predictions = gs.predict(kaggle_n)"
   ]
  },
  {
   "cell_type": "code",
   "execution_count": null,
   "metadata": {},
   "outputs": [],
   "source": [
    "len(predictions)"
   ]
  },
  {
   "cell_type": "code",
   "execution_count": null,
   "metadata": {},
   "outputs": [],
   "source": [
    "pred_dic = {'Id': test_df['Id'],\n",
    "            'SalePrice': predictions\n",
    "           }\n",
    "pred_dic\n",
    "\n",
    "preds_df = pd.DataFrame(data=pred_dic)\n",
    "preds_df.info()\n",
    "\n",
    "preds_df.head()"
   ]
  },
  {
   "cell_type": "code",
   "execution_count": null,
   "metadata": {},
   "outputs": [],
   "source": [
    "preds_df[['Id', 'SalePrice']].to_csv('kaggle_preds_7.csv', index=False)#without this it adds unnamed:0"
   ]
  }
 ],
 "metadata": {
  "kernelspec": {
   "display_name": "Python 3",
   "language": "python",
   "name": "python3"
  },
  "language_info": {
   "codemirror_mode": {
    "name": "ipython",
    "version": 3
   },
   "file_extension": ".py",
   "mimetype": "text/x-python",
   "name": "python",
   "nbconvert_exporter": "python",
   "pygments_lexer": "ipython3",
   "version": "3.6.5"
  }
 },
 "nbformat": 4,
 "nbformat_minor": 2
}
