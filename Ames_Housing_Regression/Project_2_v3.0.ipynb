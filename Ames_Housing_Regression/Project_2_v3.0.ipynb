{
 "cells": [
  {
   "cell_type": "code",
   "execution_count": 1735,
   "metadata": {},
   "outputs": [],
   "source": [
    "import pandas as pd\n",
    "import numpy as np\n",
    "import seaborn as sns\n",
    "import matplotlib.pyplot as plt\n",
    "import scipy.stats as stats\n",
    "from sklearn.model_selection import train_test_split, KFold, cross_val_score\n",
    "from sklearn.metrics import r2_score\n",
    "from sklearn.preprocessing import StandardScaler, PolynomialFeatures\n",
    "from sklearn.linear_model import Ridge, Lasso, ElasticNet, LinearRegression, RidgeCV, LassoCV, ElasticNetCV\n",
    "from sklearn.model_selection import cross_val_score\n",
    "import statsmodels.api as sm\n",
    "from statsmodels.sandbox.regression.predstd import wls_prediction_std\n",
    "from sklearn.pipeline import Pipeline\n",
    "from sklearn.model_selection import GridSearchCV\n",
    "from sklearn.linear_model import LogisticRegression\n",
    "from sklearn.metrics import mean_squared_error\n",
    "\n",
    "%matplotlib inline\n",
    "sns.set_style('whitegrid')\n",
    "plt.style.use('fivethirtyeight')"
   ]
  },
  {
   "cell_type": "code",
   "execution_count": 1736,
   "metadata": {},
   "outputs": [],
   "source": [
    "df = pd.read_csv('/Users/jonathanbeatty/Desktop/DataSets/Project_2/train.csv')\n",
    "\n",
    "test_df = pd.read_csv('/Users/jonathanbeatty/Desktop/DataSets/Project_2/test.csv')"
   ]
  },
  {
   "cell_type": "code",
   "execution_count": 1737,
   "metadata": {},
   "outputs": [
    {
     "data": {
      "text/plain": [
       "Id                   0\n",
       "PID                  0\n",
       "MS SubClass          0\n",
       "MS Zoning            0\n",
       "Lot Frontage       330\n",
       "Lot Area             0\n",
       "Street               0\n",
       "Alley             1911\n",
       "Lot Shape            0\n",
       "Land Contour         0\n",
       "Utilities            0\n",
       "Lot Config           0\n",
       "Land Slope           0\n",
       "Neighborhood         0\n",
       "Condition 1          0\n",
       "Condition 2          0\n",
       "Bldg Type            0\n",
       "House Style          0\n",
       "Overall Qual         0\n",
       "Overall Cond         0\n",
       "Year Built           0\n",
       "Year Remod/Add       0\n",
       "Roof Style           0\n",
       "Roof Matl            0\n",
       "Exterior 1st         0\n",
       "Exterior 2nd         0\n",
       "Mas Vnr Type        22\n",
       "Mas Vnr Area        22\n",
       "Exter Qual           0\n",
       "Exter Cond           0\n",
       "                  ... \n",
       "Half Bath            0\n",
       "Bedroom AbvGr        0\n",
       "Kitchen AbvGr        0\n",
       "Kitchen Qual         0\n",
       "TotRms AbvGrd        0\n",
       "Functional           0\n",
       "Fireplaces           0\n",
       "Fireplace Qu      1000\n",
       "Garage Type        113\n",
       "Garage Yr Blt      114\n",
       "Garage Finish      114\n",
       "Garage Cars          1\n",
       "Garage Area          1\n",
       "Garage Qual        114\n",
       "Garage Cond        114\n",
       "Paved Drive          0\n",
       "Wood Deck SF         0\n",
       "Open Porch SF        0\n",
       "Enclosed Porch       0\n",
       "3Ssn Porch           0\n",
       "Screen Porch         0\n",
       "Pool Area            0\n",
       "Pool QC           2042\n",
       "Fence             1651\n",
       "Misc Feature      1986\n",
       "Misc Val             0\n",
       "Mo Sold              0\n",
       "Yr Sold              0\n",
       "Sale Type            0\n",
       "SalePrice            0\n",
       "Length: 81, dtype: int64"
      ]
     },
     "execution_count": 1737,
     "metadata": {},
     "output_type": "execute_result"
    }
   ],
   "source": [
    "df.isnull().sum()"
   ]
  },
  {
   "cell_type": "code",
   "execution_count": 1738,
   "metadata": {},
   "outputs": [
    {
     "data": {
      "text/plain": [
       "Id                  0\n",
       "PID                 0\n",
       "MS SubClass         0\n",
       "MS Zoning           0\n",
       "Lot Frontage      160\n",
       "Lot Area            0\n",
       "Street              0\n",
       "Alley             821\n",
       "Lot Shape           0\n",
       "Land Contour        0\n",
       "Utilities           0\n",
       "Lot Config          0\n",
       "Land Slope          0\n",
       "Neighborhood        0\n",
       "Condition 1         0\n",
       "Condition 2         0\n",
       "Bldg Type           0\n",
       "House Style         0\n",
       "Overall Qual        0\n",
       "Overall Cond        0\n",
       "Year Built          0\n",
       "Year Remod/Add      0\n",
       "Roof Style          0\n",
       "Roof Matl           0\n",
       "Exterior 1st        0\n",
       "Exterior 2nd        0\n",
       "Mas Vnr Type        1\n",
       "Mas Vnr Area        1\n",
       "Exter Qual          0\n",
       "Exter Cond          0\n",
       "                 ... \n",
       "Full Bath           0\n",
       "Half Bath           0\n",
       "Bedroom AbvGr       0\n",
       "Kitchen AbvGr       0\n",
       "Kitchen Qual        0\n",
       "TotRms AbvGrd       0\n",
       "Functional          0\n",
       "Fireplaces          0\n",
       "Fireplace Qu      422\n",
       "Garage Type        44\n",
       "Garage Yr Blt      45\n",
       "Garage Finish      45\n",
       "Garage Cars         0\n",
       "Garage Area         0\n",
       "Garage Qual        45\n",
       "Garage Cond        45\n",
       "Paved Drive         0\n",
       "Wood Deck SF        0\n",
       "Open Porch SF       0\n",
       "Enclosed Porch      0\n",
       "3Ssn Porch          0\n",
       "Screen Porch        0\n",
       "Pool Area           0\n",
       "Pool QC           875\n",
       "Fence             707\n",
       "Misc Feature      838\n",
       "Misc Val            0\n",
       "Mo Sold             0\n",
       "Yr Sold             0\n",
       "Sale Type           0\n",
       "Length: 80, dtype: int64"
      ]
     },
     "execution_count": 1738,
     "metadata": {},
     "output_type": "execute_result"
    }
   ],
   "source": [
    "test_df.isnull().sum()"
   ]
  },
  {
   "cell_type": "markdown",
   "metadata": {},
   "source": [
    "## Im dropping columns that have very few non null numbers in conjunction with how they are used according to the documentation for the dataset."
   ]
  },
  {
   "cell_type": "code",
   "execution_count": 1739,
   "metadata": {},
   "outputs": [],
   "source": [
    "df.drop('Pool QC', axis = 1, inplace= True)\n",
    "df.drop('Misc Feature', axis = 1, inplace = True)\n",
    "df.drop('Fence', axis = 1, inplace = True)\n",
    "df.drop('Alley', axis = 1, inplace = True)\n",
    "df.drop('Lot Frontage', axis = 1, inplace = True)\n",
    "df.drop('Bsmt Qual', axis = 1, inplace = True)\n",
    "df.drop('Bsmt Cond', axis = 1, inplace = True)\n",
    "df.drop('Bsmt Exposure', axis = 1, inplace = True)\n",
    "df.drop('BsmtFin Type 1', axis = 1, inplace = True)\n",
    "df.drop('BsmtFin Type 2', axis = 1, inplace = True)\n",
    "df.drop('Electrical', axis = 1, inplace = True)\n",
    "df.drop('Fireplace Qu', axis = 1, inplace = True)\n",
    "df.drop('Garage Type', axis = 1, inplace = True)\n",
    "df.drop('Garage Yr Blt', axis = 1, inplace = True)\n",
    "df.drop('Garage Finish', axis = 1, inplace = True)\n",
    "df.drop('Garage Qual', axis = 1, inplace = True)\n",
    "df.drop('Garage Cond', axis = 1, inplace = True)\n",
    "df.drop('Mas Vnr Area', axis = 1, inplace = True)\n",
    "df.drop('Id', axis = 1, inplace= True)\n",
    "df.drop('PID', axis = 1, inplace= True)"
   ]
  },
  {
   "cell_type": "code",
   "execution_count": 1740,
   "metadata": {},
   "outputs": [],
   "source": [
    "test_df.drop('Pool QC', axis = 1, inplace= True)\n",
    "test_df.drop('Misc Feature', axis = 1, inplace = True)\n",
    "test_df.drop('Fence', axis = 1, inplace = True)\n",
    "test_df.drop('Alley', axis = 1, inplace = True)\n",
    "test_df.drop('Lot Frontage', axis = 1, inplace = True)\n",
    "test_df.drop('Bsmt Qual', axis = 1, inplace = True)\n",
    "test_df.drop('Bsmt Cond', axis = 1, inplace = True)\n",
    "test_df.drop('Bsmt Exposure', axis = 1, inplace = True)\n",
    "test_df.drop('BsmtFin Type 1', axis = 1, inplace = True)\n",
    "test_df.drop('BsmtFin Type 2', axis = 1, inplace = True)\n",
    "test_df.drop('Electrical', axis = 1, inplace = True)\n",
    "test_df.drop('Fireplace Qu', axis = 1, inplace = True)\n",
    "test_df.drop('Garage Type', axis = 1, inplace = True)\n",
    "test_df.drop('Garage Yr Blt', axis = 1, inplace = True)\n",
    "test_df.drop('Garage Finish', axis = 1, inplace = True)\n",
    "test_df.drop('Garage Qual', axis = 1, inplace = True)\n",
    "test_df.drop('Garage Cond', axis = 1, inplace = True)\n",
    "test_df.drop('Mas Vnr Area', axis = 1, inplace = True)\n",
    "test_df.drop('PID', axis = 1, inplace= True)"
   ]
  },
  {
   "cell_type": "code",
   "execution_count": 1741,
   "metadata": {},
   "outputs": [
    {
     "data": {
      "text/plain": [
       "<matplotlib.axes._subplots.AxesSubplot at 0x1c27810898>"
      ]
     },
     "execution_count": 1741,
     "metadata": {},
     "output_type": "execute_result"
    },
    {
     "data": {
      "image/png": "[encoded data removed]",
      "text/plain": [
       "<Figure size 1080x1080 with 2 Axes>"
      ]
     },
     "metadata": {},
     "output_type": "display_data"
    }
   ],
   "source": [
    "plt.figure(figsize =(15,15))\n",
    "sns.heatmap(df.corr(), cmap=\"GnBu_r\",)"
   ]
  },
  {
   "cell_type": "code",
   "execution_count": 1742,
   "metadata": {},
   "outputs": [
    {
     "name": "stdout",
     "output_type": "stream",
     "text": [
      "<class 'pandas.core.frame.DataFrame'>\n",
      "RangeIndex: 2051 entries, 0 to 2050\n",
      "Data columns (total 61 columns):\n",
      "MS SubClass        2051 non-null int64\n",
      "MS Zoning          2051 non-null object\n",
      "Lot Area           2051 non-null int64\n",
      "Street             2051 non-null object\n",
      "Lot Shape          2051 non-null object\n",
      "Land Contour       2051 non-null object\n",
      "Utilities          2051 non-null object\n",
      "Lot Config         2051 non-null object\n",
      "Land Slope         2051 non-null object\n",
      "Neighborhood       2051 non-null object\n",
      "Condition 1        2051 non-null object\n",
      "Condition 2        2051 non-null object\n",
      "Bldg Type          2051 non-null object\n",
      "House Style        2051 non-null object\n",
      "Overall Qual       2051 non-null int64\n",
      "Overall Cond       2051 non-null int64\n",
      "Year Built         2051 non-null int64\n",
      "Year Remod/Add     2051 non-null int64\n",
      "Roof Style         2051 non-null object\n",
      "Roof Matl          2051 non-null object\n",
      "Exterior 1st       2051 non-null object\n",
      "Exterior 2nd       2051 non-null object\n",
      "Mas Vnr Type       2029 non-null object\n",
      "Exter Qual         2051 non-null object\n",
      "Exter Cond         2051 non-null object\n",
      "Foundation         2051 non-null object\n",
      "BsmtFin SF 1       2050 non-null float64\n",
      "BsmtFin SF 2       2050 non-null float64\n",
      "Bsmt Unf SF        2050 non-null float64\n",
      "Total Bsmt SF      2050 non-null float64\n",
      "Heating            2051 non-null object\n",
      "Heating QC         2051 non-null object\n",
      "Central Air        2051 non-null object\n",
      "1st Flr SF         2051 non-null int64\n",
      "2nd Flr SF         2051 non-null int64\n",
      "Low Qual Fin SF    2051 non-null int64\n",
      "Gr Liv Area        2051 non-null int64\n",
      "Bsmt Full Bath     2049 non-null float64\n",
      "Bsmt Half Bath     2049 non-null float64\n",
      "Full Bath          2051 non-null int64\n",
      "Half Bath          2051 non-null int64\n",
      "Bedroom AbvGr      2051 non-null int64\n",
      "Kitchen AbvGr      2051 non-null int64\n",
      "Kitchen Qual       2051 non-null object\n",
      "TotRms AbvGrd      2051 non-null int64\n",
      "Functional         2051 non-null object\n",
      "Fireplaces         2051 non-null int64\n",
      "Garage Cars        2050 non-null float64\n",
      "Garage Area        2050 non-null float64\n",
      "Paved Drive        2051 non-null object\n",
      "Wood Deck SF       2051 non-null int64\n",
      "Open Porch SF      2051 non-null int64\n",
      "Enclosed Porch     2051 non-null int64\n",
      "3Ssn Porch         2051 non-null int64\n",
      "Screen Porch       2051 non-null int64\n",
      "Pool Area          2051 non-null int64\n",
      "Misc Val           2051 non-null int64\n",
      "Mo Sold            2051 non-null int64\n",
      "Yr Sold            2051 non-null int64\n",
      "Sale Type          2051 non-null object\n",
      "SalePrice          2051 non-null int64\n",
      "dtypes: float64(8), int64(26), object(27)\n",
      "memory usage: 977.5+ KB\n"
     ]
    }
   ],
   "source": [
    "df.info()"
   ]
  },
  {
   "cell_type": "code",
   "execution_count": 1743,
   "metadata": {},
   "outputs": [
    {
     "data": {
      "text/plain": [
       "Id                 0\n",
       "MS SubClass        0\n",
       "MS Zoning          0\n",
       "Lot Area           0\n",
       "Street             0\n",
       "Lot Shape          0\n",
       "Land Contour       0\n",
       "Utilities          0\n",
       "Lot Config         0\n",
       "Land Slope         0\n",
       "Neighborhood       0\n",
       "Condition 1        0\n",
       "Condition 2        0\n",
       "Bldg Type          0\n",
       "House Style        0\n",
       "Overall Qual       0\n",
       "Overall Cond       0\n",
       "Year Built         0\n",
       "Year Remod/Add     0\n",
       "Roof Style         0\n",
       "Roof Matl          0\n",
       "Exterior 1st       0\n",
       "Exterior 2nd       0\n",
       "Mas Vnr Type       1\n",
       "Exter Qual         0\n",
       "Exter Cond         0\n",
       "Foundation         0\n",
       "BsmtFin SF 1       0\n",
       "BsmtFin SF 2       0\n",
       "Bsmt Unf SF        0\n",
       "                  ..\n",
       "Heating            0\n",
       "Heating QC         0\n",
       "Central Air        0\n",
       "1st Flr SF         0\n",
       "2nd Flr SF         0\n",
       "Low Qual Fin SF    0\n",
       "Gr Liv Area        0\n",
       "Bsmt Full Bath     0\n",
       "Bsmt Half Bath     0\n",
       "Full Bath          0\n",
       "Half Bath          0\n",
       "Bedroom AbvGr      0\n",
       "Kitchen AbvGr      0\n",
       "Kitchen Qual       0\n",
       "TotRms AbvGrd      0\n",
       "Functional         0\n",
       "Fireplaces         0\n",
       "Garage Cars        0\n",
       "Garage Area        0\n",
       "Paved Drive        0\n",
       "Wood Deck SF       0\n",
       "Open Porch SF      0\n",
       "Enclosed Porch     0\n",
       "3Ssn Porch         0\n",
       "Screen Porch       0\n",
       "Pool Area          0\n",
       "Misc Val           0\n",
       "Mo Sold            0\n",
       "Yr Sold            0\n",
       "Sale Type          0\n",
       "Length: 61, dtype: int64"
      ]
     },
     "execution_count": 1743,
     "metadata": {},
     "output_type": "execute_result"
    }
   ],
   "source": [
    "test_df.isnull().sum()"
   ]
  },
  {
   "cell_type": "markdown",
   "metadata": {},
   "source": [
    "## Below I am dropping all of the null values and just replacing them with 0's. This may not be ideal in the long run but for my intial findings this will give me a good baseline to work from."
   ]
  },
  {
   "cell_type": "code",
   "execution_count": 1744,
   "metadata": {},
   "outputs": [],
   "source": [
    "df.fillna(0.0,inplace=True)"
   ]
  },
  {
   "cell_type": "code",
   "execution_count": 1745,
   "metadata": {},
   "outputs": [],
   "source": [
    "test_df.fillna(0.0,inplace=True)"
   ]
  },
  {
   "cell_type": "markdown",
   "metadata": {},
   "source": [
    "## Time to get dummies!!!! Below I am going through the two dataframes and splitting them on the objects and numeric column. After that I get dummies the object data frames and then I concat them back together with the numeric data frames."
   ]
  },
  {
   "cell_type": "code",
   "execution_count": 1746,
   "metadata": {},
   "outputs": [],
   "source": [
    "df_numeric_1 = df.select_dtypes(['number'])"
   ]
  },
  {
   "cell_type": "code",
   "execution_count": 1866,
   "metadata": {},
   "outputs": [
    {
     "name": "stdout",
     "output_type": "stream",
     "text": [
      "<class 'pandas.core.frame.DataFrame'>\n",
      "RangeIndex: 879 entries, 0 to 878\n",
      "Columns: 181 entries, Id to Sale Type_WD \n",
      "dtypes: float64(8), int64(26), uint8(147)\n",
      "memory usage: 359.7 KB\n"
     ]
    }
   ],
   "source": [
    "test_df_numeric_1 = test_df.select_dtypes(['number'])\n",
    "test_df_numeric.info()"
   ]
  },
  {
   "cell_type": "code",
   "execution_count": 1867,
   "metadata": {},
   "outputs": [
    {
     "name": "stdout",
     "output_type": "stream",
     "text": [
      "<class 'pandas.core.frame.DataFrame'>\n",
      "RangeIndex: 2051 entries, 0 to 2050\n",
      "Data columns (total 27 columns):\n",
      "MS Zoning       2051 non-null object\n",
      "Street          2051 non-null object\n",
      "Lot Shape       2051 non-null object\n",
      "Land Contour    2051 non-null object\n",
      "Utilities       2051 non-null object\n",
      "Lot Config      2051 non-null object\n",
      "Land Slope      2051 non-null object\n",
      "Neighborhood    2051 non-null object\n",
      "Condition 1     2051 non-null object\n",
      "Condition 2     2051 non-null object\n",
      "Bldg Type       2051 non-null object\n",
      "House Style     2051 non-null object\n",
      "Roof Style      2051 non-null object\n",
      "Roof Matl       2051 non-null object\n",
      "Exterior 1st    2051 non-null object\n",
      "Exterior 2nd    2051 non-null object\n",
      "Mas Vnr Type    2051 non-null object\n",
      "Exter Qual      2051 non-null object\n",
      "Exter Cond      2051 non-null object\n",
      "Foundation      2051 non-null object\n",
      "Heating         2051 non-null object\n",
      "Heating QC      2051 non-null object\n",
      "Central Air     2051 non-null object\n",
      "Kitchen Qual    2051 non-null object\n",
      "Functional      2051 non-null object\n",
      "Paved Drive     2051 non-null object\n",
      "Sale Type       2051 non-null object\n",
      "dtypes: object(27)\n",
      "memory usage: 432.7+ KB\n"
     ]
    }
   ],
   "source": [
    "df_objects = df.select_dtypes(include='object')\n",
    "df_objects.info()"
   ]
  },
  {
   "cell_type": "code",
   "execution_count": 1749,
   "metadata": {},
   "outputs": [],
   "source": [
    "test_df_objects = test_df.select_dtypes(include='object')"
   ]
  },
  {
   "cell_type": "code",
   "execution_count": 1750,
   "metadata": {},
   "outputs": [
    {
     "name": "stdout",
     "output_type": "stream",
     "text": [
      "<class 'pandas.core.frame.DataFrame'>\n",
      "RangeIndex: 879 entries, 0 to 878\n",
      "Data columns (total 27 columns):\n",
      "MS Zoning       879 non-null object\n",
      "Street          879 non-null object\n",
      "Lot Shape       879 non-null object\n",
      "Land Contour    879 non-null object\n",
      "Utilities       879 non-null object\n",
      "Lot Config      879 non-null object\n",
      "Land Slope      879 non-null object\n",
      "Neighborhood    879 non-null object\n",
      "Condition 1     879 non-null object\n",
      "Condition 2     879 non-null object\n",
      "Bldg Type       879 non-null object\n",
      "House Style     879 non-null object\n",
      "Roof Style      879 non-null object\n",
      "Roof Matl       879 non-null object\n",
      "Exterior 1st    879 non-null object\n",
      "Exterior 2nd    879 non-null object\n",
      "Mas Vnr Type    879 non-null object\n",
      "Exter Qual      879 non-null object\n",
      "Exter Cond      879 non-null object\n",
      "Foundation      879 non-null object\n",
      "Heating         879 non-null object\n",
      "Heating QC      879 non-null object\n",
      "Central Air     879 non-null object\n",
      "Kitchen Qual    879 non-null object\n",
      "Functional      879 non-null object\n",
      "Paved Drive     879 non-null object\n",
      "Sale Type       879 non-null object\n",
      "dtypes: object(27)\n",
      "memory usage: 185.5+ KB\n"
     ]
    }
   ],
   "source": [
    "test_df_objects.info()"
   ]
  },
  {
   "cell_type": "code",
   "execution_count": 1751,
   "metadata": {},
   "outputs": [],
   "source": [
    "dummy_var = df_objects.columns\n",
    "test_dummy_var = test_df_objects.columns"
   ]
  },
  {
   "cell_type": "code",
   "execution_count": 1752,
   "metadata": {},
   "outputs": [],
   "source": [
    "df_get_dum = pd.get_dummies(df_objects, columns = dummy_var ,drop_first = True )"
   ]
  },
  {
   "cell_type": "code",
   "execution_count": 1753,
   "metadata": {},
   "outputs": [],
   "source": [
    "test_df_get_dum = pd.get_dummies(test_df_objects, columns = test_dummy_var ,drop_first = True)"
   ]
  },
  {
   "cell_type": "code",
   "execution_count": 1754,
   "metadata": {},
   "outputs": [],
   "source": [
    "df_numeric = pd.concat([df_numeric_1, df_get_dum], axis =1)"
   ]
  },
  {
   "cell_type": "code",
   "execution_count": 1868,
   "metadata": {},
   "outputs": [],
   "source": [
    "test_df_numeric = pd.concat([test_df_numeric_1, test_df_get_dum], axis =1)"
   ]
  },
  {
   "cell_type": "code",
   "execution_count": 1869,
   "metadata": {},
   "outputs": [
    {
     "name": "stdout",
     "output_type": "stream",
     "text": [
      "<class 'pandas.core.frame.DataFrame'>\n",
      "RangeIndex: 879 entries, 0 to 878\n",
      "Columns: 181 entries, Id to Sale Type_WD \n",
      "dtypes: float64(8), int64(26), uint8(147)\n",
      "memory usage: 359.7 KB\n"
     ]
    }
   ],
   "source": [
    "test_df_numeric.info()"
   ]
  },
  {
   "cell_type": "code",
   "execution_count": 1870,
   "metadata": {},
   "outputs": [
    {
     "name": "stdout",
     "output_type": "stream",
     "text": [
      "<class 'pandas.core.frame.DataFrame'>\n",
      "RangeIndex: 2051 entries, 0 to 2050\n",
      "Columns: 191 entries, MS SubClass to Sale Type_WD \n",
      "dtypes: float64(8), int64(26), uint8(157)\n",
      "memory usage: 859.3 KB\n"
     ]
    }
   ],
   "source": [
    "df_numeric.info()"
   ]
  },
  {
   "cell_type": "markdown",
   "metadata": {},
   "source": [
    "## This cell below was used to identify the extra columns in the training data frame that dont appear in the test data frame"
   ]
  },
  {
   "cell_type": "code",
   "execution_count": 1796,
   "metadata": {},
   "outputs": [
    {
     "data": {
      "text/plain": [
       "{'Condition 2_Feedr',\n",
       " 'Condition 2_RRAe',\n",
       " 'Condition 2_RRAn',\n",
       " 'Condition 2_RRNn',\n",
       " 'Exterior 1st_CBlock',\n",
       " 'Exterior 1st_ImStucc',\n",
       " 'Exterior 1st_PreCast',\n",
       " 'Exterior 1st_Stone',\n",
       " 'Exterior 2nd_Other',\n",
       " 'Exterior 2nd_PreCast',\n",
       " 'Exterior 2nd_Stone',\n",
       " 'Functional_Sal',\n",
       " 'Functional_Sev',\n",
       " 'Heating QC_Po',\n",
       " 'Heating_GasA',\n",
       " 'Heating_OthW',\n",
       " 'Heating_Wall',\n",
       " 'Id',\n",
       " 'Kitchen Qual_Po',\n",
       " 'MS Zoning_C (all)',\n",
       " 'Mas Vnr Type_CBlock',\n",
       " 'Neighborhood_GrnHill',\n",
       " 'Neighborhood_Landmrk',\n",
       " 'Roof Matl_CompShg',\n",
       " 'Roof Matl_Membran',\n",
       " 'Roof Matl_Metal',\n",
       " 'Roof Matl_Roll',\n",
       " 'Sale Type_VWD',\n",
       " 'SalePrice',\n",
       " 'Utilities_NoSeWa'}"
      ]
     },
     "execution_count": 1796,
     "metadata": {},
     "output_type": "execute_result"
    }
   ],
   "source": [
    "set(df_numeric.columns) ^ set(test_df_numeric.columns)"
   ]
  },
  {
   "cell_type": "code",
   "execution_count": 1759,
   "metadata": {},
   "outputs": [],
   "source": [
    "poly = PolynomialFeatures()"
   ]
  },
  {
   "cell_type": "markdown",
   "metadata": {},
   "source": [
    "## The cell below is assigning a list of the columns that exist in both Dataframes, I save that to a variable to call later to prevent mis alignment during fitting and predicting."
   ]
  },
  {
   "cell_type": "code",
   "execution_count": 1794,
   "metadata": {},
   "outputs": [
    {
     "data": {
      "text/plain": [
       "171"
      ]
     },
     "execution_count": 1794,
     "metadata": {},
     "output_type": "execute_result"
    }
   ],
   "source": [
    "common_to_both = list(set(df_numeric.columns) & set(test_df_numeric.columns))\n",
    "len(common_to_both)"
   ]
  },
  {
   "cell_type": "markdown",
   "metadata": {},
   "source": [
    "## Below Im assigning different data frames to variable for train test splitting and eventual testing and predicting"
   ]
  },
  {
   "cell_type": "code",
   "execution_count": 1890,
   "metadata": {},
   "outputs": [],
   "source": [
    "features = [each for each in df_numeric.columns if each != 'SalePrice']\n",
    "features_test = [each for each in test_df_numeric.columns if each != 'SalePrice']\n",
    "X = df_numeric[common_to_both]\n",
    "y = df_numeric['SalePrice']\n",
    "X_test_num = test_df_numeric[common_to_both]\n",
    "kaggle_n = test_df_numeric[common_to_both]\n",
    "y = np.log(y)"
   ]
  },
  {
   "cell_type": "code",
   "execution_count": 1892,
   "metadata": {},
   "outputs": [],
   "source": [
    "X_train, X_test, y_train, y_test = train_test_split(X, y, random_state=42)"
   ]
  },
  {
   "cell_type": "code",
   "execution_count": 1856,
   "metadata": {},
   "outputs": [],
   "source": [
    "# twenty_lowest = list(pd.concat([X_train, y_train],\n",
    "#                      axis=1).corr()\n",
    "#                      ['SalePrice'].sort_values().index[1:21])\n",
    "# twenty_highest = list(pd.concat([X_train, y_train],\n",
    "#                           axis=1).corr()\n",
    "#                 ['SalePrice']\n",
    "#                 .sort_values(\n",
    "#                     ascending=False).index[1:21])"
   ]
  },
  {
   "cell_type": "code",
   "execution_count": 1849,
   "metadata": {},
   "outputs": [
    {
     "data": {
      "text/html": [
       "<div>\n",
       "<style scoped>\n",
       "    .dataframe tbody tr th:only-of-type {\n",
       "        vertical-align: middle;\n",
       "    }\n",
       "\n",
       "    .dataframe tbody tr th {\n",
       "        vertical-align: top;\n",
       "    }\n",
       "\n",
       "    .dataframe thead th {\n",
       "        text-align: right;\n",
       "    }\n",
       "</style>\n",
       "<table border=\"1\" class=\"dataframe\">\n",
       "  <thead>\n",
       "    <tr style=\"text-align: right;\">\n",
       "      <th></th>\n",
       "      <th>Lot Area</th>\n",
       "      <th>Overall Qual</th>\n",
       "      <th>Year Built</th>\n",
       "      <th>Year Remod/Add</th>\n",
       "      <th>1st Flr SF</th>\n",
       "      <th>Gr Liv Area</th>\n",
       "      <th>Full Bath</th>\n",
       "      <th>Garage Cars</th>\n",
       "      <th>Garage Area</th>\n",
       "      <th>Total Bsmt SF</th>\n",
       "      <th>1st Flr SF</th>\n",
       "      <th>TotRms AbvGrd</th>\n",
       "    </tr>\n",
       "  </thead>\n",
       "  <tbody>\n",
       "    <tr>\n",
       "      <th>count</th>\n",
       "      <td>2051.000000</td>\n",
       "      <td>2051.000000</td>\n",
       "      <td>2051.000000</td>\n",
       "      <td>2051.000000</td>\n",
       "      <td>2051.000000</td>\n",
       "      <td>2051.000000</td>\n",
       "      <td>2051.000000</td>\n",
       "      <td>2051.000000</td>\n",
       "      <td>2051.000000</td>\n",
       "      <td>2051.000000</td>\n",
       "      <td>2051.000000</td>\n",
       "      <td>2051.000000</td>\n",
       "    </tr>\n",
       "    <tr>\n",
       "      <th>mean</th>\n",
       "      <td>10065.208191</td>\n",
       "      <td>6.112140</td>\n",
       "      <td>1971.708922</td>\n",
       "      <td>1984.190151</td>\n",
       "      <td>1164.488055</td>\n",
       "      <td>1499.330083</td>\n",
       "      <td>1.577279</td>\n",
       "      <td>1.775719</td>\n",
       "      <td>473.440761</td>\n",
       "      <td>1057.471965</td>\n",
       "      <td>1164.488055</td>\n",
       "      <td>6.435885</td>\n",
       "    </tr>\n",
       "    <tr>\n",
       "      <th>std</th>\n",
       "      <td>6742.488909</td>\n",
       "      <td>1.426271</td>\n",
       "      <td>30.177889</td>\n",
       "      <td>21.036250</td>\n",
       "      <td>396.446923</td>\n",
       "      <td>500.447829</td>\n",
       "      <td>0.549279</td>\n",
       "      <td>0.765357</td>\n",
       "      <td>216.135102</td>\n",
       "      <td>449.908003</td>\n",
       "      <td>396.446923</td>\n",
       "      <td>1.560225</td>\n",
       "    </tr>\n",
       "    <tr>\n",
       "      <th>min</th>\n",
       "      <td>1300.000000</td>\n",
       "      <td>1.000000</td>\n",
       "      <td>1872.000000</td>\n",
       "      <td>1950.000000</td>\n",
       "      <td>334.000000</td>\n",
       "      <td>334.000000</td>\n",
       "      <td>0.000000</td>\n",
       "      <td>0.000000</td>\n",
       "      <td>0.000000</td>\n",
       "      <td>0.000000</td>\n",
       "      <td>334.000000</td>\n",
       "      <td>2.000000</td>\n",
       "    </tr>\n",
       "    <tr>\n",
       "      <th>25%</th>\n",
       "      <td>7500.000000</td>\n",
       "      <td>5.000000</td>\n",
       "      <td>1953.500000</td>\n",
       "      <td>1964.500000</td>\n",
       "      <td>879.500000</td>\n",
       "      <td>1129.000000</td>\n",
       "      <td>1.000000</td>\n",
       "      <td>1.000000</td>\n",
       "      <td>319.000000</td>\n",
       "      <td>793.000000</td>\n",
       "      <td>879.500000</td>\n",
       "      <td>5.000000</td>\n",
       "    </tr>\n",
       "    <tr>\n",
       "      <th>50%</th>\n",
       "      <td>9430.000000</td>\n",
       "      <td>6.000000</td>\n",
       "      <td>1974.000000</td>\n",
       "      <td>1993.000000</td>\n",
       "      <td>1093.000000</td>\n",
       "      <td>1444.000000</td>\n",
       "      <td>2.000000</td>\n",
       "      <td>2.000000</td>\n",
       "      <td>480.000000</td>\n",
       "      <td>994.000000</td>\n",
       "      <td>1093.000000</td>\n",
       "      <td>6.000000</td>\n",
       "    </tr>\n",
       "    <tr>\n",
       "      <th>75%</th>\n",
       "      <td>11513.500000</td>\n",
       "      <td>7.000000</td>\n",
       "      <td>2001.000000</td>\n",
       "      <td>2004.000000</td>\n",
       "      <td>1405.000000</td>\n",
       "      <td>1728.500000</td>\n",
       "      <td>2.000000</td>\n",
       "      <td>2.000000</td>\n",
       "      <td>576.000000</td>\n",
       "      <td>1318.500000</td>\n",
       "      <td>1405.000000</td>\n",
       "      <td>7.000000</td>\n",
       "    </tr>\n",
       "    <tr>\n",
       "      <th>max</th>\n",
       "      <td>159000.000000</td>\n",
       "      <td>10.000000</td>\n",
       "      <td>2010.000000</td>\n",
       "      <td>2010.000000</td>\n",
       "      <td>5095.000000</td>\n",
       "      <td>5642.000000</td>\n",
       "      <td>4.000000</td>\n",
       "      <td>5.000000</td>\n",
       "      <td>1418.000000</td>\n",
       "      <td>6110.000000</td>\n",
       "      <td>5095.000000</td>\n",
       "      <td>15.000000</td>\n",
       "    </tr>\n",
       "  </tbody>\n",
       "</table>\n",
       "</div>"
      ],
      "text/plain": [
       "            Lot Area  Overall Qual   Year Built  Year Remod/Add   1st Flr SF  \\\n",
       "count    2051.000000   2051.000000  2051.000000     2051.000000  2051.000000   \n",
       "mean    10065.208191      6.112140  1971.708922     1984.190151  1164.488055   \n",
       "std      6742.488909      1.426271    30.177889       21.036250   396.446923   \n",
       "min      1300.000000      1.000000  1872.000000     1950.000000   334.000000   \n",
       "25%      7500.000000      5.000000  1953.500000     1964.500000   879.500000   \n",
       "50%      9430.000000      6.000000  1974.000000     1993.000000  1093.000000   \n",
       "75%     11513.500000      7.000000  2001.000000     2004.000000  1405.000000   \n",
       "max    159000.000000     10.000000  2010.000000     2010.000000  5095.000000   \n",
       "\n",
       "       Gr Liv Area    Full Bath  Garage Cars  Garage Area  Total Bsmt SF  \\\n",
       "count  2051.000000  2051.000000  2051.000000  2051.000000    2051.000000   \n",
       "mean   1499.330083     1.577279     1.775719   473.440761    1057.471965   \n",
       "std     500.447829     0.549279     0.765357   216.135102     449.908003   \n",
       "min     334.000000     0.000000     0.000000     0.000000       0.000000   \n",
       "25%    1129.000000     1.000000     1.000000   319.000000     793.000000   \n",
       "50%    1444.000000     2.000000     2.000000   480.000000     994.000000   \n",
       "75%    1728.500000     2.000000     2.000000   576.000000    1318.500000   \n",
       "max    5642.000000     4.000000     5.000000  1418.000000    6110.000000   \n",
       "\n",
       "        1st Flr SF  TotRms AbvGrd  \n",
       "count  2051.000000    2051.000000  \n",
       "mean   1164.488055       6.435885  \n",
       "std     396.446923       1.560225  \n",
       "min     334.000000       2.000000  \n",
       "25%     879.500000       5.000000  \n",
       "50%    1093.000000       6.000000  \n",
       "75%    1405.000000       7.000000  \n",
       "max    5095.000000      15.000000  "
      ]
     },
     "execution_count": 1849,
     "metadata": {},
     "output_type": "execute_result"
    }
   ],
   "source": [
    "X.describe()"
   ]
  },
  {
   "cell_type": "markdown",
   "metadata": {},
   "source": [
    "## LINEAR REGRESSION MODELING"
   ]
  },
  {
   "cell_type": "markdown",
   "metadata": {},
   "source": [
    "## Here I am instatiating a linear regression model and fitting it to get a basic score on my training and test data on the model"
   ]
  },
  {
   "cell_type": "code",
   "execution_count": 1879,
   "metadata": {},
   "outputs": [
    {
     "name": "stdout",
     "output_type": "stream",
     "text": [
      "score:  0.8683444085390907\n"
     ]
    },
    {
     "data": {
      "image/png": "[encoded data removed]",
      "text/plain": [
       "<Figure size 576x576 with 1 Axes>"
      ]
     },
     "metadata": {},
     "output_type": "display_data"
    }
   ],
   "source": [
    "lr = LinearRegression()\n",
    "\n",
    "lr = lr.fit(X_train, y_train)\n",
    "predictions = lr.predict(X_train)\n",
    "score =  lr.score(X_train, y_train)\n",
    "\n",
    "# Plot the model\n",
    "plt.figure(figsize=(8,8))\n",
    "plt.scatter(predictions, y_train, s=30, c='r', marker='+', zorder=10)\n",
    "plt.xlabel(\"Predicted Values from features - $\\hat{y}$\")\n",
    "plt.ylabel(\"Actual Sales Price - y\")\n",
    "\n",
    "plt.plot([0, np.max(y)], [0, np.max(y)], c = 'k')\n",
    "\n",
    "\n",
    "print(\"score: \", score)"
   ]
  },
  {
   "cell_type": "code",
   "execution_count": 1845,
   "metadata": {},
   "outputs": [
    {
     "name": "stdout",
     "output_type": "stream",
     "text": [
      "score:  0.9449595828335227\n"
     ]
    },
    {
     "data": {
      "image/png": "[encoded data removed]",
      "text/plain": [
       "<Figure size 576x576 with 1 Axes>"
      ]
     },
     "metadata": {},
     "output_type": "display_data"
    }
   ],
   "source": [
    "lr = LinearRegression()\n",
    "lr = lr.fit(X_test, y_test)\n",
    "predictions = lr.predict(X_test)\n",
    "score =  lr.score(X_test, y_test)\n",
    "\n",
    "# Plot the model\n",
    "plt.figure(figsize=(8,8))\n",
    "plt.scatter(predictions, y_test, s=30, c='r', marker='+', zorder=10)\n",
    "plt.xlabel(\"Predicted Values from features - $\\hat{y}$\")\n",
    "plt.ylabel(\"Actual Sales Price - y\")\n",
    "\n",
    "plt.plot([0, np.max(y)], [0, np.max(y)], c = 'k')\n",
    "\n",
    "\n",
    "print(\"score: \", score)"
   ]
  },
  {
   "cell_type": "code",
   "execution_count": 1832,
   "metadata": {},
   "outputs": [],
   "source": [
    "predictions = np.expm1(lr.predict(X_test_num))"
   ]
  },
  {
   "cell_type": "code",
   "execution_count": 1833,
   "metadata": {},
   "outputs": [
    {
     "name": "stdout",
     "output_type": "stream",
     "text": [
      "<class 'pandas.core.frame.DataFrame'>\n",
      "RangeIndex: 879 entries, 0 to 878\n",
      "Data columns (total 2 columns):\n",
      "Id           879 non-null int64\n",
      "SalePrice    879 non-null float64\n",
      "dtypes: float64(1), int64(1)\n",
      "memory usage: 13.8 KB\n"
     ]
    },
    {
     "data": {
      "text/html": [
       "<div>\n",
       "<style scoped>\n",
       "    .dataframe tbody tr th:only-of-type {\n",
       "        vertical-align: middle;\n",
       "    }\n",
       "\n",
       "    .dataframe tbody tr th {\n",
       "        vertical-align: top;\n",
       "    }\n",
       "\n",
       "    .dataframe thead th {\n",
       "        text-align: right;\n",
       "    }\n",
       "</style>\n",
       "<table border=\"1\" class=\"dataframe\">\n",
       "  <thead>\n",
       "    <tr style=\"text-align: right;\">\n",
       "      <th></th>\n",
       "      <th>Id</th>\n",
       "      <th>SalePrice</th>\n",
       "    </tr>\n",
       "  </thead>\n",
       "  <tbody>\n",
       "    <tr>\n",
       "      <th>0</th>\n",
       "      <td>2658</td>\n",
       "      <td>142003.071328</td>\n",
       "    </tr>\n",
       "    <tr>\n",
       "      <th>1</th>\n",
       "      <td>2718</td>\n",
       "      <td>148780.256640</td>\n",
       "    </tr>\n",
       "    <tr>\n",
       "      <th>2</th>\n",
       "      <td>2414</td>\n",
       "      <td>208802.113088</td>\n",
       "    </tr>\n",
       "    <tr>\n",
       "      <th>3</th>\n",
       "      <td>1989</td>\n",
       "      <td>110492.803798</td>\n",
       "    </tr>\n",
       "    <tr>\n",
       "      <th>4</th>\n",
       "      <td>625</td>\n",
       "      <td>177821.764429</td>\n",
       "    </tr>\n",
       "  </tbody>\n",
       "</table>\n",
       "</div>"
      ],
      "text/plain": [
       "     Id      SalePrice\n",
       "0  2658  142003.071328\n",
       "1  2718  148780.256640\n",
       "2  2414  208802.113088\n",
       "3  1989  110492.803798\n",
       "4   625  177821.764429"
      ]
     },
     "execution_count": 1833,
     "metadata": {},
     "output_type": "execute_result"
    }
   ],
   "source": [
    "pred_dic = {'Id': test_df['Id'],\n",
    "            'SalePrice': predictions\n",
    "           }\n",
    "pred_dic\n",
    "\n",
    "preds_df = pd.DataFrame(data=pred_dic)\n",
    "preds_df.info()\n",
    "\n",
    "preds_df.head()"
   ]
  },
  {
   "cell_type": "code",
   "execution_count": 1834,
   "metadata": {},
   "outputs": [],
   "source": [
    "preds_df[['Id', 'SalePrice']].to_csv('kaggle_preds_13.csv', index=False)#without this it adds unnamed:0"
   ]
  },
  {
   "cell_type": "markdown",
   "metadata": {},
   "source": [
    "## LASSO REGRESSION MODELING"
   ]
  },
  {
   "cell_type": "markdown",
   "metadata": {},
   "source": [
    "## Here I am fitting a new model with Lasso regression, im doing this because with the large amount of variables I think Lasso will do a much better job predicting as it drops alot of those values to 0."
   ]
  },
  {
   "cell_type": "code",
   "execution_count": 1808,
   "metadata": {},
   "outputs": [
    {
     "name": "stderr",
     "output_type": "stream",
     "text": [
      "/Users/jonathanbeatty/anaconda3/lib/python3.6/site-packages/sklearn/preprocessing/data.py:675: DeprecationWarning: The parameter y on transform() is deprecated since 0.19 and will be removed in 0.21\n",
      "  DeprecationWarning)\n",
      "/Users/jonathanbeatty/anaconda3/lib/python3.6/site-packages/sklearn/linear_model/coordinate_descent.py:491: ConvergenceWarning: Objective did not converge. You might want to increase the number of iterations. Fitting data with very small alpha may cause precision problems.\n",
      "  ConvergenceWarning)\n",
      "/Users/jonathanbeatty/anaconda3/lib/python3.6/site-packages/sklearn/linear_model/coordinate_descent.py:491: ConvergenceWarning: Objective did not converge. You might want to increase the number of iterations. Fitting data with very small alpha may cause precision problems.\n",
      "  ConvergenceWarning)\n",
      "/Users/jonathanbeatty/anaconda3/lib/python3.6/site-packages/sklearn/linear_model/coordinate_descent.py:491: ConvergenceWarning: Objective did not converge. You might want to increase the number of iterations. Fitting data with very small alpha may cause precision problems.\n",
      "  ConvergenceWarning)\n",
      "/Users/jonathanbeatty/anaconda3/lib/python3.6/site-packages/sklearn/linear_model/coordinate_descent.py:491: ConvergenceWarning: Objective did not converge. You might want to increase the number of iterations. Fitting data with very small alpha may cause precision problems.\n",
      "  ConvergenceWarning)\n",
      "/Users/jonathanbeatty/anaconda3/lib/python3.6/site-packages/sklearn/linear_model/coordinate_descent.py:491: ConvergenceWarning: Objective did not converge. You might want to increase the number of iterations. Fitting data with very small alpha may cause precision problems.\n",
      "  ConvergenceWarning)\n",
      "/Users/jonathanbeatty/anaconda3/lib/python3.6/site-packages/sklearn/linear_model/coordinate_descent.py:491: ConvergenceWarning: Objective did not converge. You might want to increase the number of iterations. Fitting data with very small alpha may cause precision problems.\n",
      "  ConvergenceWarning)\n",
      "/Users/jonathanbeatty/anaconda3/lib/python3.6/site-packages/sklearn/linear_model/coordinate_descent.py:491: ConvergenceWarning: Objective did not converge. You might want to increase the number of iterations. Fitting data with very small alpha may cause precision problems.\n",
      "  ConvergenceWarning)\n",
      "/Users/jonathanbeatty/anaconda3/lib/python3.6/site-packages/sklearn/linear_model/coordinate_descent.py:491: ConvergenceWarning: Objective did not converge. You might want to increase the number of iterations. Fitting data with very small alpha may cause precision problems.\n",
      "  ConvergenceWarning)\n",
      "/Users/jonathanbeatty/anaconda3/lib/python3.6/site-packages/sklearn/linear_model/coordinate_descent.py:491: ConvergenceWarning: Objective did not converge. You might want to increase the number of iterations. Fitting data with very small alpha may cause precision problems.\n",
      "  ConvergenceWarning)\n",
      "/Users/jonathanbeatty/anaconda3/lib/python3.6/site-packages/sklearn/linear_model/coordinate_descent.py:491: ConvergenceWarning: Objective did not converge. You might want to increase the number of iterations. Fitting data with very small alpha may cause precision problems.\n",
      "  ConvergenceWarning)\n"
     ]
    },
    {
     "name": "stdout",
     "output_type": "stream",
     "text": [
      "0.8948108086563393\n",
      "0.889215125292688\n"
     ]
    },
    {
     "name": "stderr",
     "output_type": "stream",
     "text": [
      "/Users/jonathanbeatty/anaconda3/lib/python3.6/site-packages/sklearn/linear_model/coordinate_descent.py:491: ConvergenceWarning: Objective did not converge. You might want to increase the number of iterations. Fitting data with very small alpha may cause precision problems.\n",
      "  ConvergenceWarning)\n"
     ]
    }
   ],
   "source": [
    "    \n",
    "ss = StandardScaler()\n",
    "ss.fit(X_train, y_train)\n",
    "X_n_s = ss.transform(X_train, y_train)\n",
    "\n",
    "\n",
    "lcv = LassoCV(alphas = np.linspace(0.001,5,50), cv = 10)\n",
    "\n",
    "lcv.fit(X_train, y_train)\n",
    "print(lcv.score(X_train, y_train))\n",
    "print(lcv.score(X_test, y_test))"
   ]
  },
  {
   "cell_type": "markdown",
   "metadata": {},
   "source": [
    "## Once I got my scores from this model ive realized that because the training data is out performiong the testing data, unlike the Linear regression model, I wanted to try this model first for predicting. Below I instantiate, fit and predict a new model using the originally modified Training DF and Testing DF"
   ]
  },
  {
   "cell_type": "code",
   "execution_count": 1812,
   "metadata": {},
   "outputs": [
    {
     "name": "stdout",
     "output_type": "stream",
     "text": [
      "0.91240645130145\n"
     ]
    }
   ],
   "source": [
    "ss = StandardScaler()\n",
    "ss.fit(X)\n",
    "X_n_s = ss.transform(X)\n",
    "\n",
    "kaggle_n_s = ss.transform(X_test_num)\n",
    "\n",
    "lcv = LassoCV(alphas = np.linspace(0.001,5,50), cv = 10)\n",
    "\n",
    "lcv.fit(X_n_s, y)\n",
    "print(lcv.score(X_n_s, y))\n",
    "predictions = lcv.predict(kaggle_n_s)"
   ]
  },
  {
   "cell_type": "code",
   "execution_count": 1814,
   "metadata": {},
   "outputs": [
    {
     "data": {
      "text/plain": [
       "879"
      ]
     },
     "execution_count": 1814,
     "metadata": {},
     "output_type": "execute_result"
    }
   ],
   "source": [
    "len(predictions)"
   ]
  },
  {
   "cell_type": "code",
   "execution_count": null,
   "metadata": {},
   "outputs": [],
   "source": [
    "pred_dic = {'Id': test_df['Id'],\n",
    "            'SalePrice': predictions\n",
    "           }\n",
    "pred_dic\n",
    "\n",
    "preds_df = pd.DataFrame(data=pred_dic)\n",
    "preds_df.info()\n",
    "\n",
    "preds_df.head()"
   ]
  },
  {
   "cell_type": "code",
   "execution_count": null,
   "metadata": {},
   "outputs": [],
   "source": [
    "preds_df[['Id', 'SalePrice']].to_csv('kaggle_preds_11.csv', index=False)#without this it adds unnamed:0"
   ]
  },
  {
   "cell_type": "markdown",
   "metadata": {},
   "source": [
    "## RIDGE REGRESSION MODELING"
   ]
  },
  {
   "cell_type": "markdown",
   "metadata": {},
   "source": [
    "## Below I wanted to run a ridge model to make sure it wouldnt outperfom the lasso, even though normally ridge regressions dont handle this large of variable sets as well as Lasso does. "
   ]
  },
  {
   "cell_type": "code",
   "execution_count": 1771,
   "metadata": {},
   "outputs": [
    {
     "name": "stderr",
     "output_type": "stream",
     "text": [
      "/Users/jonathanbeatty/anaconda3/lib/python3.6/site-packages/sklearn/preprocessing/data.py:675: DeprecationWarning: The parameter y on transform() is deprecated since 0.19 and will be removed in 0.21\n",
      "  DeprecationWarning)\n"
     ]
    },
    {
     "name": "stdout",
     "output_type": "stream",
     "text": [
      "0.9016267657348761\n",
      "0.8995621770108824\n"
     ]
    }
   ],
   "source": [
    "    \n",
    "ss = StandardScaler()\n",
    "ss.fit(X_train, y_train)\n",
    "X_n_ridge = ss.transform(X_train, y_train)\n",
    "\n",
    "\n",
    "rcv = RidgeCV(alphas = np.logspace(0, 5, 50), cv = 10)\n",
    "\n",
    "rcv.fit(X_train, y_train)\n",
    "print(rcv.score(X_train, y_train))\n",
    "print(rcv.score(X_test, y_test))"
   ]
  },
  {
   "cell_type": "code",
   "execution_count": 1772,
   "metadata": {},
   "outputs": [
    {
     "name": "stdout",
     "output_type": "stream",
     "text": [
      "0.8966668956923672\n"
     ]
    }
   ],
   "source": [
    "ss = StandardScaler()\n",
    "ss.fit(X_test_num)\n",
    "X_n_ridge = ss.transform(X_test_num)\n",
    "\n",
    "kaggle_n_s = ss.transform(kaggle_n)\n",
    "\n",
    "rcv = RidgeCV(alphas = np.logspace(0, 5, 50), cv = 10)\n",
    "\n",
    "rcv.fit(X_n_ridge, y)\n",
    "print(rcv.score(X_n_ridge, y))\n"
   ]
  },
  {
   "cell_type": "code",
   "execution_count": null,
   "metadata": {},
   "outputs": [],
   "source": []
  },
  {
   "cell_type": "markdown",
   "metadata": {},
   "source": [
    "## The numbers above illustrate that so far our Lasso model has done the best job predicting the housing sale prices."
   ]
  },
  {
   "cell_type": "markdown",
   "metadata": {},
   "source": [
    "## Next steps:\n",
    "1. I will be working with Pipeline as well as gridsearch to do more rapid model testing\n",
    "2. I will use Polynomial features to start doing some feature engineering to alter variables to try to get a better score\n",
    "3. Look at using Random Forest as the next regression model I want to try."
   ]
  },
  {
   "cell_type": "markdown",
   "metadata": {},
   "source": [
    "## Pipeline"
   ]
  },
  {
   "cell_type": "markdown",
   "metadata": {},
   "source": [
    "## Here I started work on a pipeline and ran multiple different models but I just couldnt improve on my score anymore."
   ]
  },
  {
   "cell_type": "code",
   "execution_count": 1896,
   "metadata": {},
   "outputs": [
    {
     "data": {
      "text/plain": [
       "Pipeline(memory=None,\n",
       "     steps=[('ss', StandardScaler(copy=True, with_mean=True, with_std=True)), ('lr', LinearRegression(copy_X=True, fit_intercept=True, n_jobs=1, normalize=False))])"
      ]
     },
     "execution_count": 1896,
     "metadata": {},
     "output_type": "execute_result"
    }
   ],
   "source": [
    "pipe = Pipeline([\n",
    "    ('ss', StandardScaler()),\n",
    "    ('lr', LinearRegression())\n",
    "])\n",
    "\n",
    "pipe.fit(X_train, y_train)"
   ]
  },
  {
   "cell_type": "code",
   "execution_count": 1897,
   "metadata": {},
   "outputs": [
    {
     "name": "stdout",
     "output_type": "stream",
     "text": [
      "0.9230537530712553\n",
      "-1392662818342860.8\n"
     ]
    }
   ],
   "source": [
    "print(pipe.score(X_train, y_train))\n",
    "print(pipe.score(X_test, y_test))"
   ]
  },
  {
   "cell_type": "code",
   "execution_count": 1899,
   "metadata": {},
   "outputs": [],
   "source": [
    "predictions = np.expm1(pipe.predict(kaggle_n))"
   ]
  },
  {
   "cell_type": "code",
   "execution_count": 1900,
   "metadata": {},
   "outputs": [
    {
     "name": "stdout",
     "output_type": "stream",
     "text": [
      "<class 'pandas.core.frame.DataFrame'>\n",
      "RangeIndex: 879 entries, 0 to 878\n",
      "Data columns (total 2 columns):\n",
      "Id           879 non-null int64\n",
      "SalePrice    879 non-null float64\n",
      "dtypes: float64(1), int64(1)\n",
      "memory usage: 13.8 KB\n"
     ]
    },
    {
     "data": {
      "text/html": [
       "<div>\n",
       "<style scoped>\n",
       "    .dataframe tbody tr th:only-of-type {\n",
       "        vertical-align: middle;\n",
       "    }\n",
       "\n",
       "    .dataframe tbody tr th {\n",
       "        vertical-align: top;\n",
       "    }\n",
       "\n",
       "    .dataframe thead th {\n",
       "        text-align: right;\n",
       "    }\n",
       "</style>\n",
       "<table border=\"1\" class=\"dataframe\">\n",
       "  <thead>\n",
       "    <tr style=\"text-align: right;\">\n",
       "      <th></th>\n",
       "      <th>Id</th>\n",
       "      <th>SalePrice</th>\n",
       "    </tr>\n",
       "  </thead>\n",
       "  <tbody>\n",
       "    <tr>\n",
       "      <th>0</th>\n",
       "      <td>2658</td>\n",
       "      <td>142012.596633</td>\n",
       "    </tr>\n",
       "    <tr>\n",
       "      <th>1</th>\n",
       "      <td>2718</td>\n",
       "      <td>148765.533414</td>\n",
       "    </tr>\n",
       "    <tr>\n",
       "      <th>2</th>\n",
       "      <td>2414</td>\n",
       "      <td>208781.105586</td>\n",
       "    </tr>\n",
       "    <tr>\n",
       "      <th>3</th>\n",
       "      <td>1989</td>\n",
       "      <td>110494.716890</td>\n",
       "    </tr>\n",
       "    <tr>\n",
       "      <th>4</th>\n",
       "      <td>625</td>\n",
       "      <td>177834.048748</td>\n",
       "    </tr>\n",
       "  </tbody>\n",
       "</table>\n",
       "</div>"
      ],
      "text/plain": [
       "     Id      SalePrice\n",
       "0  2658  142012.596633\n",
       "1  2718  148765.533414\n",
       "2  2414  208781.105586\n",
       "3  1989  110494.716890\n",
       "4   625  177834.048748"
      ]
     },
     "execution_count": 1900,
     "metadata": {},
     "output_type": "execute_result"
    }
   ],
   "source": [
    "pred_dic = {'Id': test_df['Id'],\n",
    "            'SalePrice': predictions\n",
    "           }\n",
    "pred_dic\n",
    "\n",
    "preds_df = pd.DataFrame(data=pred_dic)\n",
    "preds_df.info()\n",
    "\n",
    "preds_df.head()"
   ]
  },
  {
   "cell_type": "code",
   "execution_count": 1901,
   "metadata": {},
   "outputs": [],
   "source": [
    "preds_df[['Id', 'SalePrice']].to_csv('kaggle_preds_13.csv', index=False)#without this it adds unnamed:0"
   ]
  },
  {
   "cell_type": "code",
   "execution_count": null,
   "metadata": {},
   "outputs": [],
   "source": []
  }
 ],
 "metadata": {
  "kernelspec": {
   "display_name": "Python 3",
   "language": "python",
   "name": "python3"
  },
  "language_info": {
   "codemirror_mode": {
    "name": "ipython",
    "version": 3
   },
   "file_extension": ".py",
   "mimetype": "text/x-python",
   "name": "python",
   "nbconvert_exporter": "python",
   "pygments_lexer": "ipython3",
   "version": "3.6.5"
  }
 },
 "nbformat": 4,
 "nbformat_minor": 2
}
